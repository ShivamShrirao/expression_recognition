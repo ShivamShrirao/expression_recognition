{
 "cells": [
  {
   "cell_type": "code",
   "execution_count": 1,
   "metadata": {},
   "outputs": [
    {
     "name": "stderr",
     "output_type": "stream",
     "text": [
      "Using TensorFlow backend.\n"
     ]
    }
   ],
   "source": [
    "import os\n",
    "os.environ['CUDA_VISIBLE_DEVICES'] = '-1'\n",
    "from mtcnn import MTCNN\n",
    "import cv2"
   ]
  },
  {
   "cell_type": "code",
   "execution_count": 9,
   "metadata": {
    "collapsed": true
   },
   "outputs": [],
   "source": [
    "from time import time"
   ]
  },
  {
   "cell_type": "code",
   "execution_count": null,
   "metadata": {},
   "outputs": [],
   "source": []
  },
  {
   "cell_type": "code",
   "execution_count": 10,
   "metadata": {
    "collapsed": true
   },
   "outputs": [],
   "source": [
    "detector = MTCNN()"
   ]
  },
  {
   "cell_type": "code",
   "execution_count": 12,
   "metadata": {},
   "outputs": [],
   "source": [
    "#Displaying the image\n",
    "video_capture = cv2.VideoCapture(0)\n",
    "while True:\n",
    "    st = time()\n",
    "    #Getting the frames and the grayscale\n",
    "    _, frame = video_capture.read()\n",
    "    rgb= cv2.cvtColor(frame, cv2.COLOR_BGR2RGB)\n",
    "    faces = detector.detect_faces(rgb)\n",
    "    for x in faces:\n",
    "        box = x['box']\n",
    "        cv2.rectangle(frame,(box[0],box[1]),(box[0]+box[2],box[1]+box[3]),(255,0,0),2)\n",
    "    cv2.imshow('Video', frame)\n",
    "    end = time()\n",
    "    if cv2.waitKey(1) & 0xFF == ord('q'):\n",
    "        break\n",
    "video_capture.release()\n",
    "cv2.destroyAllWindows()"
   ]
  },
  {
   "cell_type": "code",
   "execution_count": 28,
   "metadata": {},
   "outputs": [
    {
     "data": {
      "text/plain": [
       "(480, 640, 3)"
      ]
     },
     "execution_count": 28,
     "metadata": {},
     "output_type": "execute_result"
    }
   ],
   "source": [
    "frame.shape"
   ]
  },
  {
   "cell_type": "code",
   "execution_count": null,
   "metadata": {
    "collapsed": true
   },
   "outputs": [],
   "source": [
    "#failsafe\n",
    "video_capture.release()\n",
    "cv2.destroyAllWindows()"
   ]
  },
  {
   "cell_type": "code",
   "execution_count": 5,
   "metadata": {},
   "outputs": [
    {
     "ename": "NameError",
     "evalue": "name 'face' is not defined",
     "output_type": "error",
     "traceback": [
      "\u001b[1;31m------------------------------------------------------------------\u001b[0m",
      "\u001b[1;31mNameError\u001b[0m                        Traceback (most recent call last)",
      "\u001b[1;32m<ipython-input-5-9583f29c860f>\u001b[0m in \u001b[0;36m<module>\u001b[1;34m()\u001b[0m\n\u001b[1;32m----> 1\u001b[1;33m \u001b[1;32mfor\u001b[0m \u001b[0mx\u001b[0m \u001b[1;32min\u001b[0m \u001b[0mface\u001b[0m\u001b[1;33m:\u001b[0m\u001b[1;33m\u001b[0m\u001b[0m\n\u001b[0m\u001b[0;32m      2\u001b[0m     \u001b[0mprint\u001b[0m\u001b[1;33m(\u001b[0m\u001b[0mx\u001b[0m\u001b[1;33m[\u001b[0m\u001b[1;34m'box'\u001b[0m\u001b[1;33m]\u001b[0m\u001b[1;33m)\u001b[0m\u001b[1;33m\u001b[0m\u001b[0m\n",
      "\u001b[1;31mNameError\u001b[0m: name 'face' is not defined"
     ]
    }
   ],
   "source": [
    "for x in face:\n",
    "    print(x['box'])"
   ]
  },
  {
   "cell_type": "markdown",
   "metadata": {},
   "source": [
    "## Abhi features"
   ]
  },
  {
   "cell_type": "code",
<<<<<<< HEAD
   "execution_count": 3,
   "metadata": {
    "collapsed": true
   },
=======
   "execution_count": 1,
   "metadata": {},
>>>>>>> 3c97ae2d8cc9d4ea53387304506af178addc1043
   "outputs": [],
   "source": [
    "#Importing the libraries first\n",
    "from scipy.spatial import distance\n",
    "import imutils\n",
    "import dlib\n",
    "import cv2"
   ]
  },
  {
   "cell_type": "code",
   "execution_count": 4,
   "metadata": {
    "collapsed": true
   },
   "outputs": [],
   "source": [
    "def face_rectangles(rgb):\n",
    "    faces = detector.detect_faces(rgb)\n",
    "    all_recs = []\n",
    "    for x in faces:\n",
    "        rec = x['box']\n",
    "        all_recs.append(dlib.rectangle(left=rec[0], top=rec[1], right=rec[0]+rec[2], bottom=rec[1]+rec[3]))\n",
    "    return all_recs\n",
    "    \n",
    "    "
   ]
  },
  {
   "cell_type": "code",
   "execution_count": 5,
   "metadata": {
    "collapsed": true
   },
   "outputs": [],
   "source": [
    "#Lets make the detection and prediction objects\n",
    "predictor = dlib.shape_predictor(\"shape_predictor_68_face_landmarks.dat\")"
   ]
  },
  {
   "cell_type": "code",
   "execution_count": 15,
   "metadata": {
    "collapsed": true
   },
   "outputs": [],
   "source": [
    "from imutils import face_utils\n",
    "import dlib\n",
    "import cv2\n",
    "\n",
    "cap = cv2.VideoCapture(0)\n",
    " \n",
    "while True:\n",
    "    # Getting out image by webcam \n",
    "    _, image = cap.read()\n",
    "    image = cv2.resize(image,(128,128))\n",
    "    # Converting the image to gray scale\n",
    "    gray = cv2.cvtColor(image, cv2.COLOR_BGR2GRAY)\n",
    "    rgb = cv2.cvtColor(image, cv2.COLOR_BGR2RGB)\n",
    "    # Get faces into webcam's image\n",
    "    rects = face_rectangles(rgb)\n",
    "    \n",
    "    # For each detected face, find the landmark.\n",
    "    for (i, rect) in enumerate(rects):\n",
    "        # Make the prediction and transfom it to numpy array\n",
    "        shape = predictor(gray, rect)\n",
    "        shape = face_utils.shape_to_np(shape)\n",
    "    \n",
    "        # Draw on our image, all the founded cordinate points (x,y) \n",
    "        for (x, y) in shape:\n",
    "            cv2.circle(image, (x, y), 2, (0, 255, 0), -1)\n",
    "    \n",
    "    # Show the image\n",
    "    cv2.imshow(\"Output\", image)\n",
    "    \n",
    "    k = cv2.waitKey(5) & 0xFF\n",
    "    if k == 27:\n",
    "        break\n",
    "\n",
    "cv2.destroyAllWindows()\n",
    "cap.release()"
   ]
  },
  {
   "cell_type": "code",
   "execution_count": 13,
   "metadata": {},
   "outputs": [
    {
     "data": {
      "text/plain": [
       "rectangle(254,252,275,279)"
      ]
     },
     "execution_count": 13,
     "metadata": {},
     "output_type": "execute_result"
    }
   ],
   "source": [
    "rect"
   ]
  },
  {
   "cell_type": "code",
   "execution_count": 1,
   "metadata": {
    "collapsed": true
   },
   "outputs": [],
   "source": [
    "#Copy this fuction....it returns the acpect ration\n",
    "def eye_aspect_ratio(eye):\n",
    "    \n",
    "    A = distance.euclidean(eye[1], eye[5])\n",
    "    B = distance.euclidean(eye[2], eye[4])\n",
    "    C = distance.euclidean(eye[0], eye[3])\n",
    "    \n",
    "    ear = (A + B)/(2.0 * C)\n",
    "    return ear"
   ]
  },
  {
   "cell_type": "code",
   "execution_count": null,
   "metadata": {
    "collapsed": true
   },
   "outputs": [],
   "source": [
    "#Now, lets get the index of those eyes.....\n",
    "(lstart, lend) = face_utils.FACIAL_LANDMARKS_IDXS[\"left_eye\"]\n",
    "(rstart, rend) = face_utils.FACIAL_LANDMARKS_IDXS[\"right_eye\"]"
   ]
  },
  {
   "cell_type": "code",
   "execution_count": null,
   "metadata": {
    "collapsed": true
   },
   "outputs": [],
   "source": [
    "#Now for the frames and the aspect ration threshold.....\n",
    "frames_pass = 10\n",
    "thresh = 0.25\n",
    "#Just like we decided......."
   ]
  },
  {
   "cell_type": "code",
   "execution_count": null,
   "metadata": {
    "collapsed": true
   },
   "outputs": [],
   "source": [
    "cam = cv2.VideoCapture(0)\n",
    "#To keep the track of the frames.....\n",
    "flag = 0\n",
    "while True:\n",
    "    #Record the video...\n",
    "    _, frame = cam.read()\n",
    "    \n",
    "    #Now, the usual stuff\n",
    "    frame = cv2.flip(frame, 1)\n",
    "    gray = cv2.cvtColor(frame, cv2.COLOR_BGR2GRAY)\n",
    "    rgb = cv2.cvtColor(frame, cv2.COLOR_BGR2RGB)\n",
    "    #Find the face in the grayscale image......\n",
    "    faces = detect_rec(rgb)\n",
    "    \n",
    "    for face in faces:\n",
    "        #Getting the features form the face\n",
    "        face = predict(gray, face)\n",
    "        face = face_utils.shape_to_np(face)\n",
    "        \n",
    "        #Getting the points on for the left and the right eyes\n",
    "        leftEye = face[lstart:lend]\n",
    "        rightEye = face[rstart:rend]\n",
    "        \n",
    "        #Calculating the aspect ration for both the eyes\n",
    "        leftEar = eye_aspect_ratio(leftEye)\n",
    "        rightEar = eye_aspect_ratio(rightEye)\n",
    "        \n",
    "        #Finding the net aspect ration.....\n",
    "        ear = (leftEar + rightEar)/2.0\n",
    "        \n",
    "        #Lets draw the convex hull for the sake of it.....it'll make it look cool....\n",
    "        left_conv = cv2.convexHull(leftEye)\n",
    "        right_conv = cv2.convexHull(rightEye)\n",
    "        cv2.drawContours(frame, [left_conv], -1, (0, 255, 0), 1)\n",
    "        cv2.drawContours(frame, [right_conv], -1, (0, 255, 0), 1)\n",
    "        \n",
    "        #Now for the drowsyness detector part.....\n",
    "        if ear < thresh:\n",
    "            flag += 1\n",
    "            \n",
    "            if flag > frames_pass:\n",
    "                #Alert the user if he is sleepy....\n",
    "                \n",
    "                cv2.putText(frame, \"********ALERT*********\",\n",
    "                           (10, 30), cv2.FONT_HERSHEY_COMPLEX, 0.7, (0, 0, 255), 2)\n",
    "                cv2.putText(frame, \"YOU ARE DROWSY\",\n",
    "                           (10, 324), cv2.FONT_HERSHEY_COMPLEX, 0.7, (0, 0, 255), 2)\n",
    "        \n",
    "            else:\n",
    "                cv2.putText(frame, \"AWAKE!!!\",\n",
    "                           (10, 324), cv2.FONT_HERSHEY_COMPLEX, 0.7, (0, 0, 255), 2)\n",
    "\n",
    "        \n",
    "        else:\n",
    "            #Reset the counted number of frames\n",
    "            flag = 0 \n",
    "    \n",
    "    cv2.imshow(\"Live\", frame)\n",
    "   \n",
    "    if cv2.waitKey(1) & 0xFF == ord('q'):\n",
    "        break\n",
    "        \n",
    "cam.release()\n",
    "cv2.destroyAllWindows()"
   ]
  },
  {
   "cell_type": "code",
   "execution_count": null,
   "metadata": {
    "collapsed": true
   },
   "outputs": [],
   "source": []
  }
 ],
 "metadata": {
  "kernelspec": {
   "display_name": "Python 3",
   "language": "python",
   "name": "python3"
  },
  "language_info": {
   "codemirror_mode": {
    "name": "ipython",
    "version": 3
   },
   "file_extension": ".py",
   "mimetype": "text/x-python",
   "name": "python",
   "nbconvert_exporter": "python",
   "pygments_lexer": "ipython3",
   "version": "3.8.0"
  }
 },
 "nbformat": 4,
 "nbformat_minor": 2
}
