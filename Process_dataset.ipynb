{
 "cells": [
  {
   "cell_type": "code",
   "execution_count": 11,
   "metadata": {},
   "outputs": [],
   "source": [
    "import os\n",
    "import shutil"
   ]
  },
  {
   "cell_type": "code",
   "execution_count": 14,
   "metadata": {},
   "outputs": [],
   "source": [
    "NEUTRAL_PATH=\"../CS229/CK+/neutral/\"\n",
    "DEST=\"../CS229/CK+/newwt/\""
   ]
  },
  {
   "cell_type": "code",
   "execution_count": 15,
   "metadata": {},
   "outputs": [],
   "source": [
    "ltt=os.listdir(NEUTRAL_PATH)"
   ]
  },
  {
   "cell_type": "code",
   "execution_count": 18,
   "metadata": {},
   "outputs": [],
   "source": [
    "psuj=\"\"\n",
    "i=0\n",
    "while i<len(ltt):\n",
    "    subj=ltt[i][:4]\n",
    "    if subj!=psuj:\n",
    "        nx=ltt[i+1][:4]\n",
    "        if nx==subj:\n",
    "            SRC=ltt[i+1]\n",
    "            i+=1\n",
    "        else:\n",
    "            SRC=ltt[i]\n",
    "        shutil.copyfile(NEUTRAL_PATH+SRC,DEST+SRC)\n",
    "        psuj=subj\n",
    "    i+=1"
   ]
  },
  {
   "cell_type": "code",
   "execution_count": 1,
   "metadata": {},
   "outputs": [],
   "source": [
    "import pandas as pd"
   ]
  },
  {
   "cell_type": "code",
   "execution_count": 12,
   "metadata": {},
   "outputs": [],
   "source": [
    "df=pd.read_csv(\"../facial_expressions/facial_expressions/data/legend.csv\").drop(\"user.id\",axis=1)\n",
    "\n",
    "IMG_PATH=\"../facial_expressions/facial_expressions/images/\"\n",
    "\n",
    "emotions=[\"neutral\", \"anger\", \"disgust\", \"fear\", \"happy\", \"sad\"]\n",
    "\n",
    "df[\"emotion\"]=df[\"emotion\"].map(lambda x: x.lower())\n",
    "\n",
    "df=df.replace(to_replace =\"happiness\", value =\"happy\")\n",
    "df=df.replace(to_replace =\"sadness\", value =\"sad\")"
   ]
  },
  {
   "cell_type": "code",
   "execution_count": 13,
   "metadata": {},
   "outputs": [],
   "source": [
    "SV_PATH=\"../facial_expressions/\""
   ]
  },
  {
   "cell_type": "code",
   "execution_count": 15,
   "metadata": {},
   "outputs": [],
   "source": [
    "for em in emotions[1:]:\n",
    "    dd=df[df.emotion==em]\n",
    "    for i in range(len(dd)):\n",
    "        row=dd.iloc[i]\n",
    "        shutil.copyfile(IMG_PATH+row[\"image\"],SV_PATH+em+'/'+row[\"image\"])"
   ]
  },
  {
   "cell_type": "code",
   "execution_count": 17,
   "metadata": {},
   "outputs": [],
   "source": [
    "ltt=os.listdir(SV_PATH+\"anger\")"
   ]
  },
  {
   "cell_type": "code",
   "execution_count": 19,
   "metadata": {},
   "outputs": [],
   "source": [
    "import numpy as np"
   ]
  },
  {
   "cell_type": "code",
   "execution_count": 27,
   "metadata": {},
   "outputs": [
    {
     "data": {
      "text/plain": [
       "0"
      ]
     },
     "execution_count": 27,
     "metadata": {},
     "output_type": "execute_result"
    }
   ],
   "source": [
    "np.random.randint(0,len(ltt))"
   ]
  },
  {
   "cell_type": "code",
   "execution_count": 28,
   "metadata": {},
   "outputs": [],
   "source": [
    "dd=df[df.emotion==\"happy\"]"
   ]
  },
  {
   "cell_type": "code",
   "execution_count": 36,
   "metadata": {},
   "outputs": [],
   "source": [
    "a=dd[\"image\"].values"
   ]
  },
  {
   "cell_type": "code",
   "execution_count": 47,
   "metadata": {},
   "outputs": [],
   "source": [
    "np.random.shuffle(a)"
   ]
  },
  {
   "cell_type": "code",
   "execution_count": 50,
   "metadata": {},
   "outputs": [],
   "source": [
    "for nm in a[:50]:\n",
    "    shutil.copyfile(IMG_PATH+nm,SV_PATH+'happy/'+nm)"
   ]
  },
  {
   "cell_type": "code",
   "execution_count": null,
   "metadata": {},
   "outputs": [],
   "source": []
  }
 ],
 "metadata": {
  "kernelspec": {
   "display_name": "Python 3",
   "language": "python",
   "name": "python3"
  },
  "language_info": {
   "codemirror_mode": {
    "name": "ipython",
    "version": 3
   },
   "file_extension": ".py",
   "mimetype": "text/x-python",
   "name": "python",
   "nbconvert_exporter": "python",
   "pygments_lexer": "ipython3",
   "version": "3.8.0"
  }
 },
 "nbformat": 4,
 "nbformat_minor": 2
}
