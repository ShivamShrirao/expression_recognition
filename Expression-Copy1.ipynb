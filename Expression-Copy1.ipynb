{
 "cells": [
  {
   "cell_type": "code",
   "execution_count": 1,
   "metadata": {},
   "outputs": [],
   "source": [
    "import pandas as pd\n",
    "import numpy as np\n",
    "import cv2\n",
    "import dlib\n",
    "import os"
   ]
  },
  {
   "cell_type": "code",
   "execution_count": 2,
   "metadata": {},
   "outputs": [],
   "source": [
    "face_cascade = cv2.CascadeClassifier('../face_recognition/haarcascade_frontalface_default.xml')\n",
    "predictor = dlib.shape_predictor(\"shape_predictor_68_face_landmarks.dat\")"
   ]
  },
  {
   "cell_type": "code",
   "execution_count": 3,
   "metadata": {},
   "outputs": [],
   "source": [
    "IMG_PATH=\"../facial_expressions/\""
   ]
  },
  {
   "cell_type": "code",
   "execution_count": 4,
   "metadata": {},
   "outputs": [],
   "source": [
    "emotions=[\"anger\", \"disgust\", \"fear\", \"happy\", \"sad\", \"surprise\", \"neutral\"]"
   ]
  },
  {
   "cell_type": "code",
   "execution_count": 5,
   "metadata": {},
   "outputs": [],
   "source": [
    "df=pd.read_csv(IMG_PATH+\"icml_face_data.csv\")"
   ]
  },
  {
   "cell_type": "code",
   "execution_count": 6,
   "metadata": {},
   "outputs": [],
   "source": [
    "df=df.replace(to_replace=\"PrivateTest\",value=\"Testing\")\n",
    "df=df.replace(to_replace=\"PublicTest\",value=\"Training\")"
   ]
  },
  {
   "cell_type": "code",
   "execution_count": 7,
   "metadata": {},
   "outputs": [
    {
     "data": {
      "text/html": [
       "<div>\n",
       "<style scoped>\n",
       "    .dataframe tbody tr th:only-of-type {\n",
       "        vertical-align: middle;\n",
       "    }\n",
       "\n",
       "    .dataframe tbody tr th {\n",
       "        vertical-align: top;\n",
       "    }\n",
       "\n",
       "    .dataframe thead th {\n",
       "        text-align: right;\n",
       "    }\n",
       "</style>\n",
       "<table border=\"1\" class=\"dataframe\">\n",
       "  <thead>\n",
       "    <tr style=\"text-align: right;\">\n",
       "      <th></th>\n",
       "      <th>emotion</th>\n",
       "      <th>Usage</th>\n",
       "      <th>pixels</th>\n",
       "    </tr>\n",
       "  </thead>\n",
       "  <tbody>\n",
       "    <tr>\n",
       "      <th>0</th>\n",
       "      <td>0</td>\n",
       "      <td>Training</td>\n",
       "      <td>70 80 82 72 58 58 60 63 54 58 60 48 89 115 121...</td>\n",
       "    </tr>\n",
       "    <tr>\n",
       "      <th>1</th>\n",
       "      <td>0</td>\n",
       "      <td>Training</td>\n",
       "      <td>151 150 147 155 148 133 111 140 170 174 182 15...</td>\n",
       "    </tr>\n",
       "    <tr>\n",
       "      <th>2</th>\n",
       "      <td>2</td>\n",
       "      <td>Training</td>\n",
       "      <td>231 212 156 164 174 138 161 173 182 200 106 38...</td>\n",
       "    </tr>\n",
       "    <tr>\n",
       "      <th>3</th>\n",
       "      <td>4</td>\n",
       "      <td>Training</td>\n",
       "      <td>24 32 36 30 32 23 19 20 30 41 21 22 32 34 21 1...</td>\n",
       "    </tr>\n",
       "    <tr>\n",
       "      <th>4</th>\n",
       "      <td>6</td>\n",
       "      <td>Training</td>\n",
       "      <td>4 0 0 0 0 0 0 0 0 0 0 0 3 15 23 28 48 50 58 84...</td>\n",
       "    </tr>\n",
       "    <tr>\n",
       "      <th>...</th>\n",
       "      <td>...</td>\n",
       "      <td>...</td>\n",
       "      <td>...</td>\n",
       "    </tr>\n",
       "    <tr>\n",
       "      <th>35882</th>\n",
       "      <td>6</td>\n",
       "      <td>Testing</td>\n",
       "      <td>50 36 17 22 23 29 33 39 34 37 37 37 39 43 48 5...</td>\n",
       "    </tr>\n",
       "    <tr>\n",
       "      <th>35883</th>\n",
       "      <td>3</td>\n",
       "      <td>Testing</td>\n",
       "      <td>178 174 172 173 181 188 191 194 196 199 200 20...</td>\n",
       "    </tr>\n",
       "    <tr>\n",
       "      <th>35884</th>\n",
       "      <td>0</td>\n",
       "      <td>Testing</td>\n",
       "      <td>17 17 16 23 28 22 19 17 25 26 20 24 31 19 27 9...</td>\n",
       "    </tr>\n",
       "    <tr>\n",
       "      <th>35885</th>\n",
       "      <td>3</td>\n",
       "      <td>Testing</td>\n",
       "      <td>30 28 28 29 31 30 42 68 79 81 77 67 67 71 63 6...</td>\n",
       "    </tr>\n",
       "    <tr>\n",
       "      <th>35886</th>\n",
       "      <td>2</td>\n",
       "      <td>Testing</td>\n",
       "      <td>19 13 14 12 13 16 21 33 50 57 71 84 97 108 122...</td>\n",
       "    </tr>\n",
       "  </tbody>\n",
       "</table>\n",
       "<p>35887 rows × 3 columns</p>\n",
       "</div>"
      ],
      "text/plain": [
       "       emotion     Usage                                             pixels\n",
       "0            0  Training  70 80 82 72 58 58 60 63 54 58 60 48 89 115 121...\n",
       "1            0  Training  151 150 147 155 148 133 111 140 170 174 182 15...\n",
       "2            2  Training  231 212 156 164 174 138 161 173 182 200 106 38...\n",
       "3            4  Training  24 32 36 30 32 23 19 20 30 41 21 22 32 34 21 1...\n",
       "4            6  Training  4 0 0 0 0 0 0 0 0 0 0 0 3 15 23 28 48 50 58 84...\n",
       "...        ...       ...                                                ...\n",
       "35882        6   Testing  50 36 17 22 23 29 33 39 34 37 37 37 39 43 48 5...\n",
       "35883        3   Testing  178 174 172 173 181 188 191 194 196 199 200 20...\n",
       "35884        0   Testing  17 17 16 23 28 22 19 17 25 26 20 24 31 19 27 9...\n",
       "35885        3   Testing  30 28 28 29 31 30 42 68 79 81 77 67 67 71 63 6...\n",
       "35886        2   Testing  19 13 14 12 13 16 21 33 50 57 71 84 97 108 122...\n",
       "\n",
       "[35887 rows x 3 columns]"
      ]
     },
     "execution_count": 7,
     "metadata": {},
     "output_type": "execute_result"
    }
   ],
   "source": [
    "df"
   ]
  },
  {
   "cell_type": "code",
   "execution_count": 8,
   "metadata": {},
   "outputs": [],
   "source": [
    "face_dim=64"
   ]
  },
  {
   "cell_type": "code",
   "execution_count": 9,
   "metadata": {},
   "outputs": [],
   "source": [
    "import matplotlib.pyplot as plt"
   ]
  },
  {
   "cell_type": "code",
   "execution_count": 10,
   "metadata": {},
   "outputs": [],
   "source": [
    "def ret_keypoints(image):\n",
    "    gray=image\n",
    "#     gray = cv2.cvtColor(image, cv2.COLOR_BGR2GRAY)\n",
    "    gray = cv2.resize(gray, (face_dim, face_dim))\n",
    "#     faces = face_cascade.detectMultiScale(gray, 1.3, 5)\n",
    "    param=[0,0,face_dim,face_dim]\n",
    "    shape=predictor(gray,dlib.rectangle(*param))\n",
    "    xlist=[]\n",
    "    ylist=[]\n",
    "    for i in range(68):\n",
    "        xlist.append(np.float32(shape.part(i).x))\n",
    "        ylist.append(np.float32(shape.part(i).y))\n",
    "    xmean = np.mean(xlist)\n",
    "    ymean = np.mean(ylist)\n",
    "#     plt.imshow(gray,cmap='gray')\n",
    "#     plt.scatter(xlist,ylist, marker='.')\n",
    "#     plt.show()\n",
    "    xcentral = [(x-xmean) for x in xlist]\n",
    "    ycentral = [(y-ymean) for y in ylist]\n",
    "    res=[]\n",
    "    for (x,y) in zip(xcentral,ycentral):\n",
    "        res.append(x)\n",
    "        res.append(y)\n",
    "    return (np.asarray(res)/face_dim+1)/2"
   ]
  },
  {
   "cell_type": "code",
   "execution_count": 11,
   "metadata": {},
   "outputs": [],
   "source": [
    "data={\"Training\":[],\"Testing\":[]}"
   ]
  },
  {
   "cell_type": "code",
   "execution_count": 17,
   "metadata": {},
   "outputs": [
    {
     "name": "stdout",
     "output_type": "stream",
     "text": [
      "\r",
      " 1 \r",
      " 2 \r",
      " 3 \r",
      " 4 \r",
      " 5 \r",
      " 6 \r",
      " 7 \r",
      " 8 \r",
      " 9 \r",
      " 10 \r",
      " 11 \r",
      " 12 \r",
      " 13 \r",
      " 14 \r",
      " 15 \r",
      " 16 \r",
      " 17 \r",
      " 18 \r",
      " 19 \r",
      " 20 \r",
      " 21 \r",
      " 22 \r",
      " 23 \r",
      " 24 \r",
      " 25 \r",
      " 26 \r",
      " 27 \r",
      " 28 \r",
      " 29 \r",
      " 30 \r",
      " 31 \r",
      " 32 \r",
      " 33 \r",
      " 34 \r",
      " 35 \r",
      " 36 \r",
      " 37 \r",
      " 38 \r",
      " 39 \r",
      " 40 \r",
      " 41 \r",
      " 42 \r",
      " 43 \r",
      " 44 \r",
      " 45 \r",
      " 46 "
     ]
    },
    {
     "name": "stderr",
     "output_type": "stream",
     "text": [
      "<ipython-input-17-956d05d778d7>:9: SettingWithCopyWarning: \n",
      "A value is trying to be set on a copy of a slice from a DataFrame\n",
      "\n",
      "See the caveats in the documentation: http://pandas.pydata.org/pandas-docs/stable/user_guide/indexing.html#returning-a-view-versus-a-copy\n",
      "  row[0]-=1\n",
      "<ipython-input-17-956d05d778d7>:7: SettingWithCopyWarning: \n",
      "A value is trying to be set on a copy of a slice from a DataFrame\n",
      "\n",
      "See the caveats in the documentation: http://pandas.pydata.org/pandas-docs/stable/user_guide/indexing.html#returning-a-view-versus-a-copy\n",
      "  row[0]=4\n"
     ]
    },
    {
     "name": "stdout",
     "output_type": "stream",
     "text": [
      " 35887 4519    10445  18710  19817  26952 27803 32067   "
     ]
    }
   ],
   "source": [
    "for i in range(len(df)):\n",
    "    print(\"\\r\",i+1,end=\" \")\n",
    "    row=df.iloc[i]\n",
    "    if row[0]!=1 and row[0]!=5:\n",
    "        img=np.array(list(map(np.uint8,row[2].split()))).reshape(48,48)\n",
    "        if row[0]==6:\n",
    "            row[0]=4\n",
    "        elif row[0]>1 and row[0]<5:\n",
    "            row[0]-=1\n",
    "        data[row[1]].append([row[0],ret_keypoints(img)])"
   ]
  },
  {
   "cell_type": "code",
   "execution_count": 18,
   "metadata": {},
   "outputs": [],
   "source": [
    "emotions=[\"anger\", \"fear\", \"happy\", \"sad\", \"neutral\"]"
   ]
  },
  {
   "cell_type": "code",
   "execution_count": 13,
   "metadata": {},
   "outputs": [],
   "source": [
    "import pickle"
   ]
  },
  {
   "cell_type": "code",
   "execution_count": 14,
   "metadata": {},
   "outputs": [],
   "source": [
    "# with open(\"data.pkl\",\"wb\") as f:\n",
    "#     pickle.dump(data, f)"
   ]
  },
  {
   "cell_type": "code",
   "execution_count": null,
   "metadata": {},
   "outputs": [],
   "source": [
    "# with open('data.pkl', 'rb') as f:\n",
    "#     data = pickle.load(f)"
   ]
  },
  {
   "cell_type": "code",
   "execution_count": 143,
   "metadata": {},
   "outputs": [],
   "source": [
    "# s=np.arange(len(XXD))\n",
    "# for i in range(5):\n",
    "#     np.random.shuffle(s)\n",
    "#     XXD=XXD[s]\n",
    "#     YYD=YYD[s]"
   ]
  },
  {
   "cell_type": "code",
   "execution_count": 19,
   "metadata": {},
   "outputs": [],
   "source": [
    "from tensorflow.keras.models import Sequential\n",
    "from tensorflow.keras.layers import Dense, Dropout, BatchNormalization"
   ]
  },
  {
   "cell_type": "code",
   "execution_count": 27,
   "metadata": {},
   "outputs": [],
   "source": [
    "model=Sequential()\n",
    "model.add(Dense(1024,activation='relu', input_shape=(68*2,)))\n",
    "model.add(BatchNormalization())\n",
    "model.add(Dropout(0.4))\n",
    "model.add(Dense(512,activation='relu'))\n",
    "model.add(BatchNormalization())\n",
    "model.add(Dropout(0.3))\n",
    "model.add(Dense(256,activation='relu'))\n",
    "model.add(BatchNormalization())\n",
    "model.add(Dropout(0.2))\n",
    "model.add(Dense(128,activation='relu'))\n",
    "model.add(BatchNormalization())\n",
    "model.add(Dropout(0.1))\n",
    "model.add(Dense(len(emotions),activation='softmax'))"
   ]
  },
  {
   "cell_type": "code",
   "execution_count": 28,
   "metadata": {},
   "outputs": [
    {
     "name": "stdout",
     "output_type": "stream",
     "text": [
      "Model: \"sequential_1\"\n",
      "_________________________________________________________________\n",
      "Layer (type)                 Output Shape              Param #   \n",
      "=================================================================\n",
      "dense_5 (Dense)              (None, 1024)              140288    \n",
      "_________________________________________________________________\n",
      "batch_normalization_4 (Batch (None, 1024)              4096      \n",
      "_________________________________________________________________\n",
      "dropout_4 (Dropout)          (None, 1024)              0         \n",
      "_________________________________________________________________\n",
      "dense_6 (Dense)              (None, 512)               524800    \n",
      "_________________________________________________________________\n",
      "batch_normalization_5 (Batch (None, 512)               2048      \n",
      "_________________________________________________________________\n",
      "dropout_5 (Dropout)          (None, 512)               0         \n",
      "_________________________________________________________________\n",
      "dense_7 (Dense)              (None, 256)               131328    \n",
      "_________________________________________________________________\n",
      "batch_normalization_6 (Batch (None, 256)               1024      \n",
      "_________________________________________________________________\n",
      "dropout_6 (Dropout)          (None, 256)               0         \n",
      "_________________________________________________________________\n",
      "dense_8 (Dense)              (None, 128)               32896     \n",
      "_________________________________________________________________\n",
      "batch_normalization_7 (Batch (None, 128)               512       \n",
      "_________________________________________________________________\n",
      "dropout_7 (Dropout)          (None, 128)               0         \n",
      "_________________________________________________________________\n",
      "dense_9 (Dense)              (None, 5)                 645       \n",
      "=================================================================\n",
      "Total params: 837,637\n",
      "Trainable params: 833,797\n",
      "Non-trainable params: 3,840\n",
      "_________________________________________________________________\n"
     ]
    }
   ],
   "source": [
    "model.summary()"
   ]
  },
  {
   "cell_type": "code",
   "execution_count": 29,
   "metadata": {},
   "outputs": [],
   "source": [
    "model.compile(optimizer='adam',loss='categorical_crossentropy',metrics=['accuracy'])"
   ]
  },
  {
   "cell_type": "code",
   "execution_count": 30,
   "metadata": {},
   "outputs": [],
   "source": [
    "XDB=np.vstack(np.asarray(data[\"Training\"])[:,1])\n",
    "YDY=np.asarray(data[\"Training\"])[:,0]\n",
    "YDB=np.zeros((len(YDY),len(emotions)))\n",
    "for i in range(len(YDB)):\n",
    "    YDB[i][YDY[i]]=1\n",
    "XTB=np.vstack(np.asarray(data[\"Testing\"])[:,1])\n",
    "YTY=np.asarray(data[\"Testing\"])[:,0]\n",
    "YTB=np.zeros((len(YTY),len(emotions)))\n",
    "for i in range(len(YTB)):\n",
    "    YTB[i][YTY[i]]=1"
   ]
  },
  {
   "cell_type": "code",
   "execution_count": 24,
   "metadata": {},
   "outputs": [
    {
     "ename": "NameError",
     "evalue": "name 'pickle' is not defined",
     "output_type": "error",
     "traceback": [
      "\u001b[0;31m---------------------------------------------------------------------------\u001b[0m",
      "\u001b[0;31mNameError\u001b[0m                                 Traceback (most recent call last)",
      "\u001b[0;32m<ipython-input-24-c19881787f4f>\u001b[0m in \u001b[0;36m<module>\u001b[0;34m\u001b[0m\n\u001b[1;32m      1\u001b[0m \u001b[0;32mwith\u001b[0m \u001b[0mopen\u001b[0m\u001b[0;34m(\u001b[0m\u001b[0;34m'extra_data.pkl'\u001b[0m\u001b[0;34m,\u001b[0m \u001b[0;34m'rb'\u001b[0m\u001b[0;34m)\u001b[0m \u001b[0;32mas\u001b[0m \u001b[0mf\u001b[0m\u001b[0;34m:\u001b[0m\u001b[0;34m\u001b[0m\u001b[0;34m\u001b[0m\u001b[0m\n\u001b[0;32m----> 2\u001b[0;31m     \u001b[0mexD\u001b[0m\u001b[0;34m,\u001b[0m\u001b[0meyD\u001b[0m \u001b[0;34m=\u001b[0m \u001b[0mpickle\u001b[0m\u001b[0;34m.\u001b[0m\u001b[0mload\u001b[0m\u001b[0;34m(\u001b[0m\u001b[0mf\u001b[0m\u001b[0;34m)\u001b[0m\u001b[0;34m\u001b[0m\u001b[0;34m\u001b[0m\u001b[0m\n\u001b[0m",
      "\u001b[0;31mNameError\u001b[0m: name 'pickle' is not defined"
     ]
    }
   ],
   "source": [
    "with open('extra_data.pkl', 'rb') as f:\n",
    "    exD,eyD = pickle.load(f)"
   ]
  },
  {
   "cell_type": "code",
   "execution_count": 26,
   "metadata": {},
   "outputs": [],
   "source": [
    "XDB=np.concatenate((XDB,exD))\n",
    "YDB=np.concatenate((YDB,eyD))"
   ]
  },
  {
   "cell_type": "code",
   "execution_count": 31,
   "metadata": {},
   "outputs": [],
   "source": [
    "s=np.arange(len(XDB))\n",
    "for i in range(5):\n",
    "    np.random.shuffle(s)\n",
    "    XDB=XDB[s]\n",
    "    YDB=YDB[s]"
   ]
  },
  {
   "cell_type": "code",
   "execution_count": 32,
   "metadata": {
    "scrolled": true
   },
   "outputs": [
    {
     "name": "stdout",
     "output_type": "stream",
     "text": [
      "Train on 28781 samples, validate on 3118 samples\n",
      "Epoch 1/100\n",
      "28781/28781 [==============================] - 8s 266us/sample - loss: 1.4797 - accuracy: 0.3986 - val_loss: 1.5354 - val_accuracy: 0.3082\n",
      "Epoch 2/100\n",
      "28781/28781 [==============================] - 6s 210us/sample - loss: 1.3412 - accuracy: 0.4451 - val_loss: 1.5793 - val_accuracy: 0.3461\n",
      "Epoch 3/100\n",
      "28781/28781 [==============================] - 6s 205us/sample - loss: 1.3022 - accuracy: 0.4645 - val_loss: 1.3885 - val_accuracy: 0.3954\n",
      "Epoch 4/100\n",
      "28781/28781 [==============================] - 6s 199us/sample - loss: 1.2760 - accuracy: 0.4769 - val_loss: 1.4043 - val_accuracy: 0.3858\n",
      "Epoch 5/100\n",
      "28781/28781 [==============================] - 7s 229us/sample - loss: 1.2603 - accuracy: 0.4829 - val_loss: 1.7174 - val_accuracy: 0.2133\n",
      "Epoch 6/100\n",
      "28781/28781 [==============================] - 7s 232us/sample - loss: 1.2526 - accuracy: 0.4890 - val_loss: 1.4716 - val_accuracy: 0.4240\n",
      "Epoch 7/100\n",
      "28781/28781 [==============================] - 5s 183us/sample - loss: 1.2374 - accuracy: 0.4931 - val_loss: 1.8801 - val_accuracy: 0.2656\n",
      "Epoch 8/100\n",
      "28781/28781 [==============================] - 5s 183us/sample - loss: 1.2308 - accuracy: 0.4968 - val_loss: 1.3782 - val_accuracy: 0.4240\n",
      "Epoch 9/100\n",
      "28781/28781 [==============================] - 5s 183us/sample - loss: 1.2275 - accuracy: 0.4953 - val_loss: 1.3967 - val_accuracy: 0.3894\n",
      "Epoch 10/100\n",
      "28781/28781 [==============================] - 5s 187us/sample - loss: 1.2199 - accuracy: 0.5010 - val_loss: 1.7230 - val_accuracy: 0.3586\n",
      "Epoch 11/100\n",
      "28781/28781 [==============================] - 6s 217us/sample - loss: 1.2124 - accuracy: 0.5050 - val_loss: 1.3902 - val_accuracy: 0.4195\n",
      "Epoch 12/100\n",
      "28781/28781 [==============================] - 7s 232us/sample - loss: 1.2093 - accuracy: 0.5067 - val_loss: 1.5180 - val_accuracy: 0.3999\n",
      "Epoch 13/100\n",
      "28781/28781 [==============================] - 7s 228us/sample - loss: 1.2031 - accuracy: 0.5073 - val_loss: 1.5607 - val_accuracy: 0.3400\n",
      "Epoch 14/100\n",
      "28781/28781 [==============================] - 6s 212us/sample - loss: 1.1998 - accuracy: 0.5068 - val_loss: 1.3625 - val_accuracy: 0.4185\n",
      "Epoch 15/100\n",
      "28781/28781 [==============================] - 6s 207us/sample - loss: 1.1965 - accuracy: 0.5096 - val_loss: 1.7599 - val_accuracy: 0.3528\n",
      "Epoch 16/100\n",
      "28781/28781 [==============================] - 6s 199us/sample - loss: 1.1896 - accuracy: 0.5136 - val_loss: 1.4406 - val_accuracy: 0.3929\n",
      "Epoch 17/100\n",
      "28781/28781 [==============================] - 5s 186us/sample - loss: 1.1895 - accuracy: 0.5130 - val_loss: 1.3637 - val_accuracy: 0.4464\n",
      "Epoch 18/100\n",
      "28781/28781 [==============================] - 6s 193us/sample - loss: 1.1820 - accuracy: 0.5185 - val_loss: 1.4193 - val_accuracy: 0.3938\n",
      "Epoch 19/100\n",
      "28781/28781 [==============================] - 5s 190us/sample - loss: 1.1803 - accuracy: 0.5191 - val_loss: 1.9067 - val_accuracy: 0.2935\n",
      "Epoch 20/100\n",
      "28781/28781 [==============================] - 6s 192us/sample - loss: 1.1749 - accuracy: 0.5186 - val_loss: 1.3579 - val_accuracy: 0.4692\n",
      "Epoch 21/100\n",
      "28781/28781 [==============================] - 5s 184us/sample - loss: 1.1743 - accuracy: 0.5194 - val_loss: 1.4582 - val_accuracy: 0.3887\n",
      "Epoch 22/100\n",
      "28781/28781 [==============================] - 6s 199us/sample - loss: 1.1720 - accuracy: 0.5187 - val_loss: 1.6645 - val_accuracy: 0.3153\n",
      "Epoch 23/100\n",
      "28781/28781 [==============================] - 5s 179us/sample - loss: 1.1663 - accuracy: 0.5249 - val_loss: 1.2699 - val_accuracy: 0.4686\n",
      "Epoch 24/100\n",
      "28781/28781 [==============================] - 5s 179us/sample - loss: 1.1640 - accuracy: 0.5260 - val_loss: 1.2469 - val_accuracy: 0.4820\n",
      "Epoch 25/100\n",
      "28781/28781 [==============================] - 7s 256us/sample - loss: 1.1613 - accuracy: 0.5262 - val_loss: 1.4268 - val_accuracy: 0.3768\n",
      "Epoch 26/100\n",
      "28781/28781 [==============================] - 8s 266us/sample - loss: 1.1567 - accuracy: 0.5295 - val_loss: 1.4794 - val_accuracy: 0.4118\n",
      "Epoch 27/100\n",
      "28781/28781 [==============================] - 8s 264us/sample - loss: 1.1537 - accuracy: 0.5310 - val_loss: 1.5085 - val_accuracy: 0.3730\n",
      "Epoch 28/100\n",
      "28781/28781 [==============================] - 8s 268us/sample - loss: 1.1524 - accuracy: 0.5311 - val_loss: 1.2629 - val_accuracy: 0.4477\n",
      "Epoch 29/100\n",
      "28781/28781 [==============================] - 7s 258us/sample - loss: 1.1460 - accuracy: 0.5311 - val_loss: 1.7826 - val_accuracy: 0.3897\n",
      "Epoch 30/100\n",
      "28781/28781 [==============================] - 8s 279us/sample - loss: 1.1458 - accuracy: 0.5343 - val_loss: 1.4879 - val_accuracy: 0.4230\n",
      "Epoch 31/100\n",
      "28781/28781 [==============================] - 8s 263us/sample - loss: 1.1423 - accuracy: 0.5338 - val_loss: 1.3536 - val_accuracy: 0.4211\n",
      "Epoch 32/100\n",
      "28781/28781 [==============================] - 7s 259us/sample - loss: 1.1369 - accuracy: 0.5363 - val_loss: 1.3464 - val_accuracy: 0.4378\n",
      "Epoch 33/100\n",
      "28781/28781 [==============================] - 8s 264us/sample - loss: 1.1346 - accuracy: 0.5374 - val_loss: 1.2853 - val_accuracy: 0.4538\n",
      "Epoch 34/100\n",
      "28781/28781 [==============================] - 8s 261us/sample - loss: 1.1315 - accuracy: 0.5374 - val_loss: 1.4117 - val_accuracy: 0.4051\n",
      "Epoch 35/100\n",
      "28781/28781 [==============================] - 7s 254us/sample - loss: 1.1233 - accuracy: 0.5411 - val_loss: 1.2960 - val_accuracy: 0.4740\n",
      "Epoch 36/100\n",
      "28781/28781 [==============================] - 7s 256us/sample - loss: 1.1269 - accuracy: 0.5406 - val_loss: 1.3678 - val_accuracy: 0.4266\n",
      "Epoch 37/100\n",
      "28781/28781 [==============================] - 8s 262us/sample - loss: 1.1230 - accuracy: 0.5407 - val_loss: 1.2860 - val_accuracy: 0.4641\n",
      "Epoch 38/100\n",
      "28781/28781 [==============================] - 7s 249us/sample - loss: 1.1177 - accuracy: 0.5456 - val_loss: 1.3222 - val_accuracy: 0.4480\n",
      "Epoch 39/100\n",
      "28781/28781 [==============================] - 8s 262us/sample - loss: 1.1197 - accuracy: 0.5456 - val_loss: 1.4650 - val_accuracy: 0.4250\n",
      "Epoch 40/100\n",
      "28781/28781 [==============================] - 7s 261us/sample - loss: 1.1183 - accuracy: 0.5437 - val_loss: 1.2469 - val_accuracy: 0.4897\n",
      "Epoch 41/100\n",
      "28781/28781 [==============================] - 8s 261us/sample - loss: 1.1145 - accuracy: 0.5479 - val_loss: 1.3914 - val_accuracy: 0.4179\n",
      "Epoch 42/100\n",
      "28781/28781 [==============================] - 7s 244us/sample - loss: 1.1069 - accuracy: 0.5497 - val_loss: 1.6258 - val_accuracy: 0.3541\n",
      "Epoch 43/100\n",
      "28781/28781 [==============================] - 7s 248us/sample - loss: 1.1036 - accuracy: 0.5520 - val_loss: 1.4536 - val_accuracy: 0.4288\n",
      "Epoch 44/100\n",
      "28781/28781 [==============================] - 7s 241us/sample - loss: 1.1055 - accuracy: 0.5514 - val_loss: 1.3099 - val_accuracy: 0.4359\n",
      "Epoch 45/100\n",
      "28781/28781 [==============================] - 7s 239us/sample - loss: 1.1019 - accuracy: 0.5507 - val_loss: 1.4949 - val_accuracy: 0.3691\n",
      "Epoch 46/100\n",
      "28781/28781 [==============================] - 7s 245us/sample - loss: 1.0980 - accuracy: 0.5527 - val_loss: 1.2598 - val_accuracy: 0.4820\n",
      "Epoch 47/100\n",
      "28781/28781 [==============================] - 8s 270us/sample - loss: 1.0965 - accuracy: 0.5557 - val_loss: 1.4720 - val_accuracy: 0.3582\n",
      "Epoch 48/100\n",
      "28781/28781 [==============================] - 7s 259us/sample - loss: 1.0927 - accuracy: 0.5570 - val_loss: 1.4886 - val_accuracy: 0.4182\n",
      "Epoch 49/100\n",
      "28781/28781 [==============================] - 7s 248us/sample - loss: 1.0890 - accuracy: 0.5583 - val_loss: 1.3165 - val_accuracy: 0.4400\n",
      "Epoch 50/100\n",
      "28781/28781 [==============================] - 7s 258us/sample - loss: 1.0879 - accuracy: 0.5572 - val_loss: 1.3308 - val_accuracy: 0.4253\n",
      "Epoch 51/100\n",
      "28781/28781 [==============================] - 8s 272us/sample - loss: 1.0860 - accuracy: 0.5596 - val_loss: 1.5027 - val_accuracy: 0.4157\n",
      "Epoch 52/100\n",
      "28781/28781 [==============================] - 7s 253us/sample - loss: 1.0832 - accuracy: 0.5617 - val_loss: 1.4540 - val_accuracy: 0.4060\n",
      "Epoch 53/100\n",
      "28781/28781 [==============================] - 7s 239us/sample - loss: 1.0787 - accuracy: 0.5601 - val_loss: 1.4366 - val_accuracy: 0.4567\n",
      "Epoch 54/100\n",
      "28781/28781 [==============================] - 8s 268us/sample - loss: 1.0824 - accuracy: 0.5596 - val_loss: 1.3691 - val_accuracy: 0.4557\n",
      "Epoch 55/100\n",
      "28781/28781 [==============================] - 7s 252us/sample - loss: 1.0758 - accuracy: 0.5638 - val_loss: 1.4203 - val_accuracy: 0.3999\n",
      "Epoch 56/100\n",
      "28781/28781 [==============================] - 7s 253us/sample - loss: 1.0775 - accuracy: 0.5628 - val_loss: 1.3058 - val_accuracy: 0.4442\n",
      "Epoch 57/100\n",
      "28781/28781 [==============================] - 8s 275us/sample - loss: 1.0730 - accuracy: 0.5654 - val_loss: 1.2224 - val_accuracy: 0.5058\n",
      "Epoch 58/100\n",
      "28781/28781 [==============================] - 9s 320us/sample - loss: 1.0719 - accuracy: 0.5637 - val_loss: 1.4253 - val_accuracy: 0.4301\n",
      "Epoch 59/100\n",
      "28781/28781 [==============================] - 6s 222us/sample - loss: 1.0682 - accuracy: 0.5690 - val_loss: 1.3851 - val_accuracy: 0.4054\n",
      "Epoch 60/100\n",
      "28781/28781 [==============================] - 6s 219us/sample - loss: 1.0647 - accuracy: 0.5699 - val_loss: 1.3049 - val_accuracy: 0.4596\n",
      "Epoch 61/100\n",
      "28781/28781 [==============================] - 6s 207us/sample - loss: 1.0660 - accuracy: 0.5714 - val_loss: 1.2765 - val_accuracy: 0.4814\n",
      "Epoch 62/100\n",
      "28781/28781 [==============================] - 6s 191us/sample - loss: 1.0662 - accuracy: 0.5708 - val_loss: 1.4402 - val_accuracy: 0.4025\n",
      "Epoch 63/100\n",
      "28781/28781 [==============================] - 6s 204us/sample - loss: 1.0620 - accuracy: 0.5709 - val_loss: 1.3496 - val_accuracy: 0.4490\n",
      "Epoch 64/100\n",
      "28781/28781 [==============================] - 5s 189us/sample - loss: 1.0509 - accuracy: 0.5737 - val_loss: 1.2638 - val_accuracy: 0.4833\n",
      "Epoch 65/100\n",
      "28781/28781 [==============================] - 6s 212us/sample - loss: 1.0531 - accuracy: 0.5733 - val_loss: 1.3821 - val_accuracy: 0.4519\n",
      "Epoch 66/100\n",
      "28781/28781 [==============================] - 5s 190us/sample - loss: 1.0556 - accuracy: 0.5759 - val_loss: 1.2807 - val_accuracy: 0.4878\n",
      "Epoch 67/100\n",
      "28781/28781 [==============================] - 6s 215us/sample - loss: 1.0518 - accuracy: 0.5768 - val_loss: 1.2989 - val_accuracy: 0.4763\n",
      "Epoch 68/100\n",
      "28781/28781 [==============================] - 7s 227us/sample - loss: 1.0501 - accuracy: 0.5779 - val_loss: 1.3634 - val_accuracy: 0.4298\n",
      "Epoch 69/100\n",
      "28781/28781 [==============================] - 6s 221us/sample - loss: 1.0446 - accuracy: 0.5778 - val_loss: 1.2959 - val_accuracy: 0.4599\n",
      "Epoch 70/100\n",
      "28781/28781 [==============================] - 6s 216us/sample - loss: 1.0492 - accuracy: 0.5761 - val_loss: 1.4942 - val_accuracy: 0.3999\n",
      "Epoch 71/100\n",
      "28781/28781 [==============================] - 6s 201us/sample - loss: 1.0460 - accuracy: 0.5772 - val_loss: 1.3717 - val_accuracy: 0.4355\n",
      "Epoch 72/100\n",
      "28781/28781 [==============================] - 6s 211us/sample - loss: 1.0437 - accuracy: 0.5774 - val_loss: 1.2736 - val_accuracy: 0.4856\n",
      "Epoch 73/100\n",
      "28781/28781 [==============================] - 6s 198us/sample - loss: 1.0421 - accuracy: 0.5802 - val_loss: 1.3240 - val_accuracy: 0.4535\n",
      "Epoch 74/100\n",
      "28781/28781 [==============================] - 8s 283us/sample - loss: 1.0384 - accuracy: 0.5797 - val_loss: 1.5841 - val_accuracy: 0.3804\n",
      "Epoch 75/100\n",
      "28781/28781 [==============================] - 8s 287us/sample - loss: 1.0404 - accuracy: 0.5804 - val_loss: 1.3735 - val_accuracy: 0.4561\n",
      "Epoch 76/100\n",
      "28781/28781 [==============================] - 7s 240us/sample - loss: 1.0367 - accuracy: 0.5822 - val_loss: 1.4496 - val_accuracy: 0.4326\n",
      "Epoch 77/100\n",
      "28781/28781 [==============================] - 7s 260us/sample - loss: 1.0399 - accuracy: 0.5800 - val_loss: 1.2855 - val_accuracy: 0.4715\n",
      "Epoch 78/100\n",
      "28781/28781 [==============================] - 7s 235us/sample - loss: 1.0335 - accuracy: 0.5851 - val_loss: 1.4564 - val_accuracy: 0.3977\n",
      "Epoch 79/100\n",
      "28781/28781 [==============================] - 7s 235us/sample - loss: 1.0298 - accuracy: 0.5862 - val_loss: 1.4393 - val_accuracy: 0.4419\n",
      "Epoch 80/100\n",
      "28781/28781 [==============================] - 7s 250us/sample - loss: 1.0270 - accuracy: 0.5874 - val_loss: 1.2924 - val_accuracy: 0.4715\n",
      "Epoch 81/100\n",
      "28781/28781 [==============================] - 7s 259us/sample - loss: 1.0325 - accuracy: 0.5848 - val_loss: 1.4000 - val_accuracy: 0.4448\n",
      "Epoch 82/100\n",
      "28781/28781 [==============================] - 9s 300us/sample - loss: 1.0249 - accuracy: 0.5890 - val_loss: 1.3188 - val_accuracy: 0.4695\n",
      "Epoch 83/100\n",
      "28781/28781 [==============================] - 8s 265us/sample - loss: 1.0214 - accuracy: 0.5865 - val_loss: 1.4293 - val_accuracy: 0.3736\n",
      "Epoch 84/100\n",
      "28781/28781 [==============================] - 8s 262us/sample - loss: 1.0204 - accuracy: 0.5905 - val_loss: 1.5538 - val_accuracy: 0.4060\n",
      "Epoch 85/100\n",
      "28781/28781 [==============================] - 7s 243us/sample - loss: 1.0218 - accuracy: 0.5867 - val_loss: 1.8456 - val_accuracy: 0.3890\n",
      "Epoch 86/100\n",
      "28781/28781 [==============================] - 7s 238us/sample - loss: 1.0220 - accuracy: 0.5897 - val_loss: 1.4717 - val_accuracy: 0.4230\n",
      "Epoch 87/100\n",
      "28781/28781 [==============================] - 7s 231us/sample - loss: 1.0207 - accuracy: 0.5883 - val_loss: 1.2797 - val_accuracy: 0.4904\n",
      "Epoch 88/100\n",
      "28781/28781 [==============================] - 7s 240us/sample - loss: 1.0169 - accuracy: 0.5897 - val_loss: 1.5332 - val_accuracy: 0.4041\n",
      "Epoch 89/100\n",
      "28781/28781 [==============================] - 7s 255us/sample - loss: 1.0172 - accuracy: 0.5888 - val_loss: 1.3789 - val_accuracy: 0.4278\n",
      "Epoch 90/100\n",
      "28781/28781 [==============================] - 7s 249us/sample - loss: 1.0140 - accuracy: 0.5902 - val_loss: 1.3295 - val_accuracy: 0.4480\n",
      "Epoch 91/100\n",
      "28781/28781 [==============================] - 6s 225us/sample - loss: 1.0182 - accuracy: 0.5886 - val_loss: 1.2689 - val_accuracy: 0.4824\n",
      "Epoch 92/100\n",
      "28781/28781 [==============================] - 7s 252us/sample - loss: 1.0062 - accuracy: 0.5951 - val_loss: 1.2985 - val_accuracy: 0.4551\n",
      "Epoch 93/100\n",
      "28781/28781 [==============================] - 6s 210us/sample - loss: 1.0153 - accuracy: 0.5877 - val_loss: 1.5160 - val_accuracy: 0.3621\n",
      "Epoch 94/100\n",
      "28781/28781 [==============================] - 6s 217us/sample - loss: 1.0103 - accuracy: 0.5912 - val_loss: 1.3639 - val_accuracy: 0.4407\n",
      "Epoch 95/100\n",
      "28781/28781 [==============================] - 5s 191us/sample - loss: 1.0053 - accuracy: 0.5973 - val_loss: 1.2773 - val_accuracy: 0.4670\n",
      "Epoch 96/100\n",
      "28781/28781 [==============================] - 6s 194us/sample - loss: 1.0071 - accuracy: 0.5944 - val_loss: 1.2738 - val_accuracy: 0.5128\n",
      "Epoch 97/100\n",
      "28781/28781 [==============================] - 7s 239us/sample - loss: 1.0064 - accuracy: 0.5964 - val_loss: 1.2916 - val_accuracy: 0.4750\n",
      "Epoch 98/100\n",
      "28781/28781 [==============================] - 6s 195us/sample - loss: 1.0078 - accuracy: 0.5954 - val_loss: 1.3078 - val_accuracy: 0.4480\n",
      "Epoch 99/100\n",
      "28781/28781 [==============================] - 6s 196us/sample - loss: 1.0012 - accuracy: 0.5982 - val_loss: 1.3941 - val_accuracy: 0.4567\n",
      "Epoch 100/100\n",
      "28781/28781 [==============================] - 6s 207us/sample - loss: 1.0020 - accuracy: 0.5987 - val_loss: 1.3432 - val_accuracy: 0.4641\n"
     ]
    },
    {
     "data": {
      "text/plain": [
       "<tensorflow.python.keras.callbacks.History at 0x7f6db062d0d0>"
      ]
     },
     "execution_count": 32,
     "metadata": {},
     "output_type": "execute_result"
    }
   ],
   "source": [
    "model.fit(XDB,YDB,batch_size=64,epochs=100,validation_data=(XTB,YTB))"
   ]
  },
  {
   "cell_type": "code",
   "execution_count": 313,
   "metadata": {},
   "outputs": [],
   "source": [
    "# model_json = model.to_json()\n",
    "# with open(\"model.json\", \"w\") as json_file:\n",
    "#     json_file.write(model_json)\n",
    "# model.save_weights(\"model.h5\")"
   ]
  },
  {
   "cell_type": "code",
   "execution_count": null,
   "metadata": {},
   "outputs": [],
   "source": [
    "json_file = open('model.json', 'r')\n",
    "loaded_model_json = json_file.read()\n",
    "json_file.close()\n",
    "loaded_model = model_from_json(loaded_model_json)\n",
    "# load weights into new model\n",
    "loaded_model.load_weights(\"model.h5\")"
   ]
  },
  {
   "cell_type": "code",
   "execution_count": 33,
   "metadata": {
    "scrolled": false
   },
   "outputs": [
    {
     "data": {
      "text/plain": [
       "0.4640795381654907"
      ]
     },
     "execution_count": 33,
     "metadata": {},
     "output_type": "execute_result"
    }
   ],
   "source": [
    "(model.predict(XTB).argmax(axis=1)==YTB.argmax(axis=1)).sum()/len(XTB)"
   ]
  },
  {
   "cell_type": "code",
   "execution_count": 34,
   "metadata": {},
   "outputs": [
    {
     "data": {
      "text/plain": [
       "array([2, 3, 3, ..., 3, 1, 0])"
      ]
     },
     "execution_count": 34,
     "metadata": {},
     "output_type": "execute_result"
    }
   ],
   "source": [
    "model.predict(XTB).argmax(axis=1)"
   ]
  },
  {
   "cell_type": "code",
   "execution_count": 35,
   "metadata": {},
   "outputs": [
    {
     "data": {
      "text/plain": [
       "array([0, 4, 3, ..., 0, 2, 1])"
      ]
     },
     "execution_count": 35,
     "metadata": {},
     "output_type": "execute_result"
    }
   ],
   "source": [
    "YTB.argmax(axis=1)"
   ]
  },
  {
   "cell_type": "code",
   "execution_count": 37,
   "metadata": {},
   "outputs": [],
   "source": [
    "from udp_streamer import *"
   ]
  },
  {
   "cell_type": "code",
   "execution_count": 38,
   "metadata": {},
   "outputs": [],
   "source": [
    "handler = udp_handler()\n",
    "handler.make_listener('0.0.0.0',5554)"
   ]
  },
  {
   "cell_type": "code",
   "execution_count": 39,
   "metadata": {},
   "outputs": [
    {
     "name": "stderr",
     "output_type": "stream",
     "text": [
      "Using TensorFlow backend.\n"
     ]
    }
   ],
   "source": [
    "from mtcnn import MTCNN\n",
    "detector = MTCNN()"
   ]
  },
  {
   "cell_type": "code",
   "execution_count": 40,
   "metadata": {},
   "outputs": [],
   "source": [
    "def face_rectangles(rgb):\n",
    "    faces = detector.detect_faces(rgb)\n",
    "    all_recs = []\n",
    "    for x in faces:\n",
    "        rec = x['box']\n",
    "        all_recs.append(dlib.rectangle(left=rec[0], top=rec[1], right=rec[0]+rec[2], bottom=rec[1]+rec[3]))\n",
    "    return all_recs"
   ]
  },
  {
   "cell_type": "code",
   "execution_count": 41,
   "metadata": {},
   "outputs": [],
   "source": [
    "def get_img():\n",
    "    global handler,img\n",
    "    buffer = handler.get_data()\n",
    "    if buffer is not None:\n",
    "        try:\n",
    "            npimg = np.frombuffer(buffer, dtype=np.uint8)\n",
    "            img = cv2.imdecode(npimg, 1)\n",
    "        except Exception as e:\n",
    "            print(e)\n",
    "    return img"
   ]
  },
  {
   "cell_type": "code",
   "execution_count": 45,
   "metadata": {},
   "outputs": [],
   "source": [
    "# cam = cv2.VideoCapture(0)\n",
    "\n",
    "while True:\n",
    "#     ret, img = cam.read()\n",
    "    img=get_img()\n",
    "    try:\n",
    "        grimg = cv2.cvtColor(img, cv2.COLOR_BGR2GRAY)\n",
    "    except:\n",
    "        continue\n",
    "    gimg = cv2.cvtColor(img, cv2.COLOR_BGR2RGB)\n",
    "#     faces = face_cascade.detectMultiScale(gimg, 1.3, 5)\n",
    "    faces = face_rectangles(gimg)\n",
    "#     for (x,y,w,h) in faces:\n",
    "    for facrec in faces:\n",
    "        x=facrec.left()\n",
    "        y=facrec.top()\n",
    "        w=facrec.right()-x\n",
    "        h=facrec.bottom()-y\n",
    "        landmarks=[]\n",
    "        svx,svy=x,y\n",
    "        gray=grimg[y:y+int(1.1*h),max(0,x-int(0.15*w)):x+int(1.15*w)]\n",
    "        try:\n",
    "            gray=cv2.resize(gray, (face_dim, face_dim))\n",
    "        except:\n",
    "            continue\n",
    "        shape=predictor(gray,dlib.rectangle(0,0,face_dim,face_dim))\n",
    "        xlist=[]\n",
    "        ylist=[]\n",
    "        for i in range(68):\n",
    "            xp=shape.part(i).x\n",
    "            yp=shape.part(i).y\n",
    "            cv2.circle(gray, (xp, yp), 1, (255, 255, 255), -1)\n",
    "            xlist.append(float(xp))\n",
    "            ylist.append(float(yp))\n",
    "        cv2.imshow('gray',gray)\n",
    "        xmean = np.mean(xlist)\n",
    "        ymean = np.mean(ylist)\n",
    "        xcentral = [(x-xmean) for x in xlist]\n",
    "        ycentral = [(y-ymean) for y in ylist]\n",
    "        res=[]\n",
    "        for (x,y) in zip(xcentral,ycentral):\n",
    "            res.append(x)\n",
    "            res.append(y)\n",
    "        landmarks.append((np.asarray(res)/face_dim+1)/2)\n",
    "        if len(landmarks)>0:\n",
    "            y_out=model.predict(np.asarray(landmarks))\n",
    "            res=np.argmax(y_out,axis=1)\n",
    "            for r in res:\n",
    "                cv2.putText(gimg,emotions[r],(svx,svy),cv2.FONT_HERSHEY_SIMPLEX,0.5,(0,255,0),2,cv2.LINE_AA)\n",
    "    cv2.imshow('webcam', img)\n",
    "    if cv2.waitKey(1) & 0xff == 27:\n",
    "        break\n",
    "\n",
    "# cam.release()\n",
    "cv2.destroyAllWindows()"
   ]
  },
  {
   "cell_type": "code",
   "execution_count": 43,
   "metadata": {},
   "outputs": [],
   "source": [
    "# cam.release()\n",
    "cv2.destroyAllWindows()"
   ]
  },
  {
   "cell_type": "code",
   "execution_count": null,
   "metadata": {},
   "outputs": [],
   "source": []
  }
 ],
 "metadata": {
  "kernelspec": {
   "display_name": "Python 3",
   "language": "python",
   "name": "python3"
  },
  "language_info": {
   "codemirror_mode": {
    "name": "ipython",
    "version": 3
   },
   "file_extension": ".py",
   "mimetype": "text/x-python",
   "name": "python",
   "nbconvert_exporter": "python",
   "pygments_lexer": "ipython3",
   "version": "3.8.0"
  }
 },
 "nbformat": 4,
 "nbformat_minor": 2
}
