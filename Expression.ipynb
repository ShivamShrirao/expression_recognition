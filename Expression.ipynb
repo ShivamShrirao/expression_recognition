{
 "cells": [
  {
   "cell_type": "code",
   "execution_count": 1,
   "metadata": {},
   "outputs": [],
   "source": [
    "import pandas as pd\n",
    "import numpy as np\n",
    "import cv2\n",
    "import dlib\n",
    "import math\n",
    "from time import time"
   ]
  },
  {
   "cell_type": "code",
   "execution_count": 2,
   "metadata": {},
   "outputs": [],
   "source": [
    "df=pd.read_csv(\"../facial_expressions/data/legend.csv\").drop(\"user.id\",axis=1)"
   ]
  },
  {
   "cell_type": "code",
   "execution_count": 3,
   "metadata": {},
   "outputs": [],
   "source": [
    "IMG_PATH=\"../facial_expressions/images/\""
   ]
  },
  {
   "cell_type": "code",
   "execution_count": 4,
   "metadata": {},
   "outputs": [],
   "source": [
    "emotions=[\"neutral\", \"anger\", \"disgust\", \"fear\", \"happy\", \"sad\"]"
   ]
  },
  {
   "cell_type": "code",
   "execution_count": 5,
   "metadata": {},
   "outputs": [],
   "source": [
    "df[\"emotion\"]=df[\"emotion\"].map(lambda x: x.lower())"
   ]
  },
  {
   "cell_type": "code",
   "execution_count": 6,
   "metadata": {},
   "outputs": [],
   "source": [
    "df=df[df.emotion!=\"surprise\"]\n",
    "df=df[df.emotion!=\"contempt\"]"
   ]
  },
  {
   "cell_type": "code",
   "execution_count": 36,
   "metadata": {},
   "outputs": [
    {
     "data": {
      "text/html": [
       "<div>\n",
       "<style scoped>\n",
       "    .dataframe tbody tr th:only-of-type {\n",
       "        vertical-align: middle;\n",
       "    }\n",
       "\n",
       "    .dataframe tbody tr th {\n",
       "        vertical-align: top;\n",
       "    }\n",
       "\n",
       "    .dataframe thead th {\n",
       "        text-align: right;\n",
       "    }\n",
       "</style>\n",
       "<table border=\"1\" class=\"dataframe\">\n",
       "  <thead>\n",
       "    <tr style=\"text-align: right;\">\n",
       "      <th></th>\n",
       "      <th>image</th>\n",
       "      <th>emotion</th>\n",
       "      <th>index</th>\n",
       "    </tr>\n",
       "  </thead>\n",
       "  <tbody>\n",
       "    <tr>\n",
       "      <th>0</th>\n",
       "      <td>facial-expressions_2868588k.jpg</td>\n",
       "      <td>anger</td>\n",
       "      <td>1</td>\n",
       "    </tr>\n",
       "    <tr>\n",
       "      <th>2</th>\n",
       "      <td>facial-expressions_2868584k.jpg</td>\n",
       "      <td>disgust</td>\n",
       "      <td>2</td>\n",
       "    </tr>\n",
       "    <tr>\n",
       "      <th>3</th>\n",
       "      <td>facial-expressions_2868582k.jpg</td>\n",
       "      <td>fear</td>\n",
       "      <td>3</td>\n",
       "    </tr>\n",
       "    <tr>\n",
       "      <th>4</th>\n",
       "      <td>Aaron_Eckhart_0001.jpg</td>\n",
       "      <td>neutral</td>\n",
       "      <td>0</td>\n",
       "    </tr>\n",
       "    <tr>\n",
       "      <th>5</th>\n",
       "      <td>Aaron_Guiel_0001.jpg</td>\n",
       "      <td>happy</td>\n",
       "      <td>4</td>\n",
       "    </tr>\n",
       "    <tr>\n",
       "      <th>...</th>\n",
       "      <td>...</td>\n",
       "      <td>...</td>\n",
       "      <td>...</td>\n",
       "    </tr>\n",
       "    <tr>\n",
       "      <th>14185</th>\n",
       "      <td>Tim_Pawlenty_0001.jpg</td>\n",
       "      <td>neutral</td>\n",
       "      <td>0</td>\n",
       "    </tr>\n",
       "    <tr>\n",
       "      <th>14186</th>\n",
       "      <td>Tim_Robbins_0001.jpg</td>\n",
       "      <td>neutral</td>\n",
       "      <td>0</td>\n",
       "    </tr>\n",
       "    <tr>\n",
       "      <th>14187</th>\n",
       "      <td>Tim_Robbins_0002.jpg</td>\n",
       "      <td>neutral</td>\n",
       "      <td>0</td>\n",
       "    </tr>\n",
       "    <tr>\n",
       "      <th>14188</th>\n",
       "      <td>Tim_Robbins_0003.jpg</td>\n",
       "      <td>neutral</td>\n",
       "      <td>0</td>\n",
       "    </tr>\n",
       "    <tr>\n",
       "      <th>14189</th>\n",
       "      <td>Tim_Robbins_0004.jpg</td>\n",
       "      <td>happy</td>\n",
       "      <td>4</td>\n",
       "    </tr>\n",
       "  </tbody>\n",
       "</table>\n",
       "<p>13813 rows × 3 columns</p>\n",
       "</div>"
      ],
      "text/plain": [
       "                                 image  emotion  index\n",
       "0      facial-expressions_2868588k.jpg    anger      1\n",
       "2      facial-expressions_2868584k.jpg  disgust      2\n",
       "3      facial-expressions_2868582k.jpg     fear      3\n",
       "4               Aaron_Eckhart_0001.jpg  neutral      0\n",
       "5                 Aaron_Guiel_0001.jpg    happy      4\n",
       "...                                ...      ...    ...\n",
       "14185            Tim_Pawlenty_0001.jpg  neutral      0\n",
       "14186             Tim_Robbins_0001.jpg  neutral      0\n",
       "14187             Tim_Robbins_0002.jpg  neutral      0\n",
       "14188             Tim_Robbins_0003.jpg  neutral      0\n",
       "14189             Tim_Robbins_0004.jpg    happy      4\n",
       "\n",
       "[13813 rows x 3 columns]"
      ]
     },
     "execution_count": 36,
     "metadata": {},
     "output_type": "execute_result"
    }
   ],
   "source": [
    "df[df.emotion!=\"sad\"]"
   ]
  },
  {
   "cell_type": "code",
   "execution_count": 7,
   "metadata": {},
   "outputs": [],
   "source": [
    "df=df.replace(to_replace =\"contempt\", value =\"disgust\")\n",
    "df=df.replace(to_replace =\"surprise\", value =\"happy\")\n",
    "df=df.replace(to_replace =\"happiness\", value =\"happy\")\n",
    "df=df.replace(to_replace =\"sadness\", value =\"sad\")"
   ]
  },
  {
   "cell_type": "code",
   "execution_count": 8,
   "metadata": {},
   "outputs": [],
   "source": [
    "inds=[]\n",
    "for em in df[\"emotion\"]:\n",
    "    inds.append(emotions.index(em))\n",
    "df[\"index\"]=inds"
   ]
  },
  {
   "cell_type": "code",
   "execution_count": 9,
   "metadata": {},
   "outputs": [
    {
     "data": {
      "text/html": [
       "<div>\n",
       "<style scoped>\n",
       "    .dataframe tbody tr th:only-of-type {\n",
       "        vertical-align: middle;\n",
       "    }\n",
       "\n",
       "    .dataframe tbody tr th {\n",
       "        vertical-align: top;\n",
       "    }\n",
       "\n",
       "    .dataframe thead th {\n",
       "        text-align: right;\n",
       "    }\n",
       "</style>\n",
       "<table border=\"1\" class=\"dataframe\">\n",
       "  <thead>\n",
       "    <tr style=\"text-align: right;\">\n",
       "      <th></th>\n",
       "      <th>image</th>\n",
       "      <th>emotion</th>\n",
       "      <th>index</th>\n",
       "    </tr>\n",
       "  </thead>\n",
       "  <tbody>\n",
       "    <tr>\n",
       "      <th>0</th>\n",
       "      <td>facial-expressions_2868588k.jpg</td>\n",
       "      <td>anger</td>\n",
       "      <td>1</td>\n",
       "    </tr>\n",
       "    <tr>\n",
       "      <th>2</th>\n",
       "      <td>facial-expressions_2868584k.jpg</td>\n",
       "      <td>disgust</td>\n",
       "      <td>2</td>\n",
       "    </tr>\n",
       "    <tr>\n",
       "      <th>3</th>\n",
       "      <td>facial-expressions_2868582k.jpg</td>\n",
       "      <td>fear</td>\n",
       "      <td>3</td>\n",
       "    </tr>\n",
       "    <tr>\n",
       "      <th>4</th>\n",
       "      <td>Aaron_Eckhart_0001.jpg</td>\n",
       "      <td>neutral</td>\n",
       "      <td>0</td>\n",
       "    </tr>\n",
       "    <tr>\n",
       "      <th>5</th>\n",
       "      <td>Aaron_Guiel_0001.jpg</td>\n",
       "      <td>happy</td>\n",
       "      <td>4</td>\n",
       "    </tr>\n",
       "    <tr>\n",
       "      <th>...</th>\n",
       "      <td>...</td>\n",
       "      <td>...</td>\n",
       "      <td>...</td>\n",
       "    </tr>\n",
       "    <tr>\n",
       "      <th>14185</th>\n",
       "      <td>Tim_Pawlenty_0001.jpg</td>\n",
       "      <td>neutral</td>\n",
       "      <td>0</td>\n",
       "    </tr>\n",
       "    <tr>\n",
       "      <th>14186</th>\n",
       "      <td>Tim_Robbins_0001.jpg</td>\n",
       "      <td>neutral</td>\n",
       "      <td>0</td>\n",
       "    </tr>\n",
       "    <tr>\n",
       "      <th>14187</th>\n",
       "      <td>Tim_Robbins_0002.jpg</td>\n",
       "      <td>neutral</td>\n",
       "      <td>0</td>\n",
       "    </tr>\n",
       "    <tr>\n",
       "      <th>14188</th>\n",
       "      <td>Tim_Robbins_0003.jpg</td>\n",
       "      <td>neutral</td>\n",
       "      <td>0</td>\n",
       "    </tr>\n",
       "    <tr>\n",
       "      <th>14189</th>\n",
       "      <td>Tim_Robbins_0004.jpg</td>\n",
       "      <td>happy</td>\n",
       "      <td>4</td>\n",
       "    </tr>\n",
       "  </tbody>\n",
       "</table>\n",
       "<p>13813 rows × 3 columns</p>\n",
       "</div>"
      ],
      "text/plain": [
       "                                 image  emotion  index\n",
       "0      facial-expressions_2868588k.jpg    anger      1\n",
       "2      facial-expressions_2868584k.jpg  disgust      2\n",
       "3      facial-expressions_2868582k.jpg     fear      3\n",
       "4               Aaron_Eckhart_0001.jpg  neutral      0\n",
       "5                 Aaron_Guiel_0001.jpg    happy      4\n",
       "...                                ...      ...    ...\n",
       "14185            Tim_Pawlenty_0001.jpg  neutral      0\n",
       "14186             Tim_Robbins_0001.jpg  neutral      0\n",
       "14187             Tim_Robbins_0002.jpg  neutral      0\n",
       "14188             Tim_Robbins_0003.jpg  neutral      0\n",
       "14189             Tim_Robbins_0004.jpg    happy      4\n",
       "\n",
       "[13813 rows x 3 columns]"
      ]
     },
     "execution_count": 9,
     "metadata": {},
     "output_type": "execute_result"
    }
   ],
   "source": [
    "df"
   ]
  },
  {
   "cell_type": "code",
   "execution_count": 10,
   "metadata": {},
   "outputs": [],
   "source": [
    "face_cascade = cv2.CascadeClassifier('../face_recognition/haarcascade_frontalface_default.xml')\n",
    "predictor = dlib.shape_predictor(\"shape_predictor_68_face_landmarks.dat\")"
   ]
  },
  {
   "cell_type": "code",
   "execution_count": 11,
   "metadata": {},
   "outputs": [],
   "source": [
    "from tensorflow.keras.models import Sequential\n",
    "from tensorflow.keras.layers import Dense, Dropout, BatchNormalization"
   ]
  },
  {
   "cell_type": "code",
   "execution_count": 12,
   "metadata": {},
   "outputs": [],
   "source": [
    "model=Sequential()\n",
    "model.add(Dense(512,activation='relu', input_shape=(68*2,)))\n",
    "# model.add(BatchNormalization())\n",
    "# model.add(Dropout(0.5))\n",
    "# model.add(Dense(512,activation='relu'))\n",
    "model.add(BatchNormalization())\n",
    "model.add(Dropout(0.5))\n",
    "model.add(Dense(256,activation='relu'))\n",
    "model.add(BatchNormalization())\n",
    "model.add(Dropout(0.4))\n",
    "model.add(Dense(128,activation='relu'))\n",
    "model.add(BatchNormalization())\n",
    "model.add(Dropout(0.2))\n",
    "model.add(Dense(len(emotions),activation='softmax'))"
   ]
  },
  {
   "cell_type": "code",
   "execution_count": 13,
   "metadata": {},
   "outputs": [
    {
     "name": "stdout",
     "output_type": "stream",
     "text": [
      "Model: \"sequential\"\n",
      "_________________________________________________________________\n",
      "Layer (type)                 Output Shape              Param #   \n",
      "=================================================================\n",
      "dense (Dense)                (None, 512)               70144     \n",
      "_________________________________________________________________\n",
      "batch_normalization (BatchNo (None, 512)               2048      \n",
      "_________________________________________________________________\n",
      "dropout (Dropout)            (None, 512)               0         \n",
      "_________________________________________________________________\n",
      "dense_1 (Dense)              (None, 256)               131328    \n",
      "_________________________________________________________________\n",
      "batch_normalization_1 (Batch (None, 256)               1024      \n",
      "_________________________________________________________________\n",
      "dropout_1 (Dropout)          (None, 256)               0         \n",
      "_________________________________________________________________\n",
      "dense_2 (Dense)              (None, 128)               32896     \n",
      "_________________________________________________________________\n",
      "batch_normalization_2 (Batch (None, 128)               512       \n",
      "_________________________________________________________________\n",
      "dropout_2 (Dropout)          (None, 128)               0         \n",
      "_________________________________________________________________\n",
      "dense_3 (Dense)              (None, 6)                 774       \n",
      "=================================================================\n",
      "Total params: 238,726\n",
      "Trainable params: 236,934\n",
      "Non-trainable params: 1,792\n",
      "_________________________________________________________________\n"
     ]
    }
   ],
   "source": [
    "model.summary()"
   ]
  },
  {
   "cell_type": "code",
   "execution_count": 14,
   "metadata": {},
   "outputs": [],
   "source": [
    "model.compile(optimizer='adam',loss='categorical_crossentropy',metrics=['accuracy'])"
   ]
  },
  {
   "cell_type": "code",
   "execution_count": 15,
   "metadata": {},
   "outputs": [],
   "source": [
    "import matplotlib.pyplot as plt\n",
    "%matplotlib inline"
   ]
  },
  {
   "cell_type": "code",
   "execution_count": 16,
   "metadata": {},
   "outputs": [],
   "source": [
    "face_dim=128"
   ]
  },
  {
   "cell_type": "code",
   "execution_count": 17,
   "metadata": {},
   "outputs": [],
   "source": [
    "def ret_keypoints(imname):\n",
    "    try:\n",
    "        image = cv2.imread(IMG_PATH+imname)\n",
    "    except:\n",
    "        return None\n",
    "    gray = cv2.cvtColor(image, cv2.COLOR_BGR2GRAY)\n",
    "    gray = cv2.resize(gray, (face_dim, face_dim))\n",
    "#     faces = face_cascade.detectMultiScale(gray, 1.3, 5)\n",
    "#     boxes = [(y,x+w,y+h,x) for (x,y,w,h) in faces]\n",
    "    shape=predictor(gray,dlib.rectangle(0,0,face_dim,face_dim))\n",
    "    xlist=[]\n",
    "    ylist=[]\n",
    "    for i in range(68):\n",
    "        xlist.append(float(shape.part(i).x))\n",
    "        ylist.append(float(shape.part(i).y))\n",
    "    xmean = np.mean(xlist)\n",
    "    ymean = np.mean(ylist)\n",
    "#     plt.imshow(gray,cmap='gray')\n",
    "#     plt.scatter(xlist,ylist, marker='.')\n",
    "#     plt.show()\n",
    "    xcentral = [(x-xmean) for x in xlist]\n",
    "    ycentral = [(y-ymean) for y in ylist]\n",
    "    res=[]\n",
    "    for (x,y) in zip(xcentral,ycentral):\n",
    "        res.append(x)\n",
    "        res.append(y)\n",
    "    return np.asarray(res)"
   ]
  },
  {
   "cell_type": "code",
   "execution_count": 18,
   "metadata": {},
   "outputs": [],
   "source": [
    "def prep_keypoints():\n",
    "    X_inp=[]\n",
    "    y_inp=[]\n",
    "    for idx in range(len(df)):\n",
    "        print(\"\\r\",idx+1,end=\" \")\n",
    "        row=df.iloc[idx]\n",
    "        landmarks=ret_keypoints(row[\"image\"])\n",
    "        if landmarks is not None:\n",
    "            X_inp.append(landmarks)\n",
    "            yy=np.zeros(len(emotions))\n",
    "            yy[row[\"index\"]]=1\n",
    "            y_inp.append(yy)\n",
    "    return np.asarray(X_inp),np.asarray(y_inp)"
   ]
  },
  {
   "cell_type": "code",
   "execution_count": 19,
   "metadata": {},
   "outputs": [
    {
     "name": "stdout",
     "output_type": "stream",
     "text": [
      " 13813 8414 "
     ]
    }
   ],
   "source": [
    "XXD,YYD=prep_keypoints()"
   ]
  },
  {
   "cell_type": "code",
   "execution_count": 26,
   "metadata": {},
   "outputs": [],
   "source": [
    "s=np.arange(len(XXD))\n",
    "np.random.shuffle(s)\n",
    "XXD=XXD[s]\n",
    "YYD=YYD[s]"
   ]
  },
  {
   "cell_type": "code",
   "execution_count": 27,
   "metadata": {},
   "outputs": [],
   "source": [
    "cut=800\n",
    "XDB=XXD[cut:]\n",
    "YDB=YYD[cut:]\n",
    "\n",
    "XTB=XXD[:cut]\n",
    "YTB=YYD[:cut]"
   ]
  },
  {
   "cell_type": "code",
   "execution_count": 28,
   "metadata": {
    "scrolled": true
   },
   "outputs": [
    {
     "name": "stdout",
     "output_type": "stream",
     "text": [
      "Train on 13013 samples, validate on 800 samples\n",
      "Epoch 1/50\n",
      "13013/13013 [==============================] - 2s 159us/sample - loss: 0.5538 - accuracy: 0.8138 - val_loss: 0.5815 - val_accuracy: 0.7912\n",
      "Epoch 2/50\n",
      "13013/13013 [==============================] - 2s 159us/sample - loss: 0.5574 - accuracy: 0.8136 - val_loss: 0.5215 - val_accuracy: 0.8313\n",
      "Epoch 3/50\n",
      "13013/13013 [==============================] - 2s 163us/sample - loss: 0.5589 - accuracy: 0.8086 - val_loss: 0.4761 - val_accuracy: 0.8425\n",
      "Epoch 4/50\n",
      "13013/13013 [==============================] - 2s 160us/sample - loss: 0.5587 - accuracy: 0.8130 - val_loss: 0.5063 - val_accuracy: 0.8400\n",
      "Epoch 5/50\n",
      "13013/13013 [==============================] - 2s 168us/sample - loss: 0.5525 - accuracy: 0.8137 - val_loss: 0.4918 - val_accuracy: 0.8238\n",
      "Epoch 6/50\n",
      "13013/13013 [==============================] - 2s 162us/sample - loss: 0.5581 - accuracy: 0.8154 - val_loss: 0.5494 - val_accuracy: 0.8087\n",
      "Epoch 7/50\n",
      "13013/13013 [==============================] - 3s 203us/sample - loss: 0.5555 - accuracy: 0.8116 - val_loss: 0.7270 - val_accuracy: 0.7063\n",
      "Epoch 8/50\n",
      "13013/13013 [==============================] - 3s 192us/sample - loss: 0.5596 - accuracy: 0.8090 - val_loss: 0.7851 - val_accuracy: 0.6263\n",
      "Epoch 9/50\n",
      "13013/13013 [==============================] - 3s 199us/sample - loss: 0.5614 - accuracy: 0.8083 - val_loss: 0.5050 - val_accuracy: 0.8425\n",
      "Epoch 10/50\n",
      "13013/13013 [==============================] - 3s 212us/sample - loss: 0.5604 - accuracy: 0.8120 - val_loss: 0.4951 - val_accuracy: 0.8487\n",
      "Epoch 11/50\n",
      "13013/13013 [==============================] - 3s 204us/sample - loss: 0.5617 - accuracy: 0.8112 - val_loss: 0.4735 - val_accuracy: 0.8500\n",
      "Epoch 12/50\n",
      "13013/13013 [==============================] - 3s 206us/sample - loss: 0.5650 - accuracy: 0.8103 - val_loss: 0.4978 - val_accuracy: 0.8388\n",
      "Epoch 13/50\n",
      "13013/13013 [==============================] - 2s 191us/sample - loss: 0.5655 - accuracy: 0.8068 - val_loss: 0.4924 - val_accuracy: 0.8512\n",
      "Epoch 14/50\n",
      "13013/13013 [==============================] - 2s 186us/sample - loss: 0.5653 - accuracy: 0.8120 - val_loss: 0.6878 - val_accuracy: 0.7362\n",
      "Epoch 15/50\n",
      "13013/13013 [==============================] - 2s 189us/sample - loss: 0.5587 - accuracy: 0.8135 - val_loss: 0.5105 - val_accuracy: 0.8375\n",
      "Epoch 16/50\n",
      "13013/13013 [==============================] - 2s 180us/sample - loss: 0.5588 - accuracy: 0.8116 - val_loss: 0.5198 - val_accuracy: 0.8263\n",
      "Epoch 17/50\n",
      "13013/13013 [==============================] - 2s 185us/sample - loss: 0.5597 - accuracy: 0.8124 - val_loss: 0.5432 - val_accuracy: 0.8200\n",
      "Epoch 18/50\n",
      "13013/13013 [==============================] - 2s 179us/sample - loss: 0.5584 - accuracy: 0.8122 - val_loss: 0.5594 - val_accuracy: 0.7912\n",
      "Epoch 19/50\n",
      "13013/13013 [==============================] - 2s 186us/sample - loss: 0.5596 - accuracy: 0.8089 - val_loss: 0.4760 - val_accuracy: 0.8525\n",
      "Epoch 20/50\n",
      "13013/13013 [==============================] - 3s 203us/sample - loss: 0.5677 - accuracy: 0.8075 - val_loss: 0.4728 - val_accuracy: 0.8413\n",
      "Epoch 21/50\n",
      "13013/13013 [==============================] - 3s 210us/sample - loss: 0.5652 - accuracy: 0.8101 - val_loss: 0.4704 - val_accuracy: 0.8375\n",
      "Epoch 22/50\n",
      "13013/13013 [==============================] - 2s 173us/sample - loss: 0.5724 - accuracy: 0.8033 - val_loss: 0.5029 - val_accuracy: 0.8338\n",
      "Epoch 23/50\n",
      "13013/13013 [==============================] - 2s 182us/sample - loss: 0.5652 - accuracy: 0.8117 - val_loss: 0.4719 - val_accuracy: 0.8388\n",
      "Epoch 24/50\n",
      "13013/13013 [==============================] - 2s 166us/sample - loss: 0.5655 - accuracy: 0.8120 - val_loss: 0.5152 - val_accuracy: 0.8363\n",
      "Epoch 25/50\n",
      "13013/13013 [==============================] - 2s 166us/sample - loss: 0.5544 - accuracy: 0.8136 - val_loss: 0.5005 - val_accuracy: 0.8313\n",
      "Epoch 26/50\n",
      "13013/13013 [==============================] - 2s 167us/sample - loss: 0.5617 - accuracy: 0.8108 - val_loss: 0.5394 - val_accuracy: 0.8012\n",
      "Epoch 27/50\n",
      "13013/13013 [==============================] - 3s 225us/sample - loss: 0.5606 - accuracy: 0.8118 - val_loss: 0.5337 - val_accuracy: 0.8338\n",
      "Epoch 28/50\n",
      "13013/13013 [==============================] - 3s 195us/sample - loss: 0.5721 - accuracy: 0.8095 - val_loss: 0.5147 - val_accuracy: 0.8112\n",
      "Epoch 29/50\n",
      "13013/13013 [==============================] - 3s 213us/sample - loss: 0.5707 - accuracy: 0.8056 - val_loss: 0.8049 - val_accuracy: 0.6850\n",
      "Epoch 30/50\n",
      "13013/13013 [==============================] - 3s 208us/sample - loss: 0.5646 - accuracy: 0.8090 - val_loss: 0.4677 - val_accuracy: 0.8537\n",
      "Epoch 31/50\n",
      "13013/13013 [==============================] - 3s 197us/sample - loss: 0.5690 - accuracy: 0.8080 - val_loss: 0.6350 - val_accuracy: 0.7262\n",
      "Epoch 32/50\n",
      "13013/13013 [==============================] - 3s 198us/sample - loss: 0.5759 - accuracy: 0.8040 - val_loss: 0.4833 - val_accuracy: 0.8425\n",
      "Epoch 33/50\n",
      " 2080/13013 [===>..........................] - ETA: 2s - loss: 0.5703 - accuracy: 0.7976"
     ]
    },
    {
     "ename": "KeyboardInterrupt",
     "evalue": "",
     "output_type": "error",
     "traceback": [
      "\u001b[0;31m---------------------------------------------------------------------------\u001b[0m",
      "\u001b[0;31mKeyboardInterrupt\u001b[0m                         Traceback (most recent call last)",
      "\u001b[0;32m<ipython-input-28-ccd647d902bb>\u001b[0m in \u001b[0;36m<module>\u001b[0;34m\u001b[0m\n\u001b[0;32m----> 1\u001b[0;31m \u001b[0mmodel\u001b[0m\u001b[0;34m.\u001b[0m\u001b[0mfit\u001b[0m\u001b[0;34m(\u001b[0m\u001b[0mXDB\u001b[0m\u001b[0;34m,\u001b[0m\u001b[0mYDB\u001b[0m\u001b[0;34m,\u001b[0m\u001b[0mbatch_size\u001b[0m\u001b[0;34m=\u001b[0m\u001b[0;36m32\u001b[0m\u001b[0;34m,\u001b[0m\u001b[0mepochs\u001b[0m\u001b[0;34m=\u001b[0m\u001b[0;36m50\u001b[0m\u001b[0;34m,\u001b[0m\u001b[0mvalidation_data\u001b[0m\u001b[0;34m=\u001b[0m\u001b[0;34m(\u001b[0m\u001b[0mXTB\u001b[0m\u001b[0;34m,\u001b[0m\u001b[0mYTB\u001b[0m\u001b[0;34m)\u001b[0m\u001b[0;34m)\u001b[0m\u001b[0;34m\u001b[0m\u001b[0;34m\u001b[0m\u001b[0m\n\u001b[0m",
      "\u001b[0;32m/usr/lib/python3.8/site-packages/tensorflow_core/python/keras/engine/training.py\u001b[0m in \u001b[0;36mfit\u001b[0;34m(self, x, y, batch_size, epochs, verbose, callbacks, validation_split, validation_data, shuffle, class_weight, sample_weight, initial_epoch, steps_per_epoch, validation_steps, validation_freq, max_queue_size, workers, use_multiprocessing, **kwargs)\u001b[0m\n\u001b[1;32m    772\u001b[0m \u001b[0;34m\u001b[0m\u001b[0m\n\u001b[1;32m    773\u001b[0m     \u001b[0mfunc\u001b[0m \u001b[0;34m=\u001b[0m \u001b[0mself\u001b[0m\u001b[0;34m.\u001b[0m\u001b[0m_select_training_loop\u001b[0m\u001b[0;34m(\u001b[0m\u001b[0mx\u001b[0m\u001b[0;34m)\u001b[0m\u001b[0;34m\u001b[0m\u001b[0;34m\u001b[0m\u001b[0m\n\u001b[0;32m--> 774\u001b[0;31m     return func.fit(\n\u001b[0m\u001b[1;32m    775\u001b[0m         \u001b[0mself\u001b[0m\u001b[0;34m,\u001b[0m\u001b[0;34m\u001b[0m\u001b[0;34m\u001b[0m\u001b[0m\n\u001b[1;32m    776\u001b[0m         \u001b[0mx\u001b[0m\u001b[0;34m=\u001b[0m\u001b[0mx\u001b[0m\u001b[0;34m,\u001b[0m\u001b[0;34m\u001b[0m\u001b[0;34m\u001b[0m\u001b[0m\n",
      "\u001b[0;32m/usr/lib/python3.8/site-packages/tensorflow_core/python/keras/engine/training_v2.py\u001b[0m in \u001b[0;36mfit\u001b[0;34m(self, model, x, y, batch_size, epochs, verbose, callbacks, validation_split, validation_data, shuffle, class_weight, sample_weight, initial_epoch, steps_per_epoch, validation_steps, validation_freq, max_queue_size, workers, use_multiprocessing, **kwargs)\u001b[0m\n\u001b[1;32m    329\u001b[0m                 \u001b[0mtraining_data_iter\u001b[0m \u001b[0;34m=\u001b[0m \u001b[0miter\u001b[0m\u001b[0;34m(\u001b[0m\u001b[0mtraining_dataset\u001b[0m\u001b[0;34m)\u001b[0m\u001b[0;34m\u001b[0m\u001b[0;34m\u001b[0m\u001b[0m\n\u001b[1;32m    330\u001b[0m \u001b[0;34m\u001b[0m\u001b[0m\n\u001b[0;32m--> 331\u001b[0;31m             training_result = run_one_epoch(\n\u001b[0m\u001b[1;32m    332\u001b[0m                 \u001b[0mmodel\u001b[0m\u001b[0;34m,\u001b[0m\u001b[0;34m\u001b[0m\u001b[0;34m\u001b[0m\u001b[0m\n\u001b[1;32m    333\u001b[0m                 \u001b[0mtraining_data_iter\u001b[0m\u001b[0;34m,\u001b[0m\u001b[0;34m\u001b[0m\u001b[0;34m\u001b[0m\u001b[0m\n",
      "\u001b[0;32m/usr/lib/python3.8/site-packages/tensorflow_core/python/keras/engine/training_v2.py\u001b[0m in \u001b[0;36mrun_one_epoch\u001b[0;34m(model, iterator, execution_function, dataset_size, batch_size, strategy, steps_per_epoch, num_samples, mode, training_context, total_epochs)\u001b[0m\n\u001b[1;32m    126\u001b[0m         step=step, mode=mode, size=current_batch_size) as batch_logs:\n\u001b[1;32m    127\u001b[0m       \u001b[0;32mtry\u001b[0m\u001b[0;34m:\u001b[0m\u001b[0;34m\u001b[0m\u001b[0;34m\u001b[0m\u001b[0m\n\u001b[0;32m--> 128\u001b[0;31m         \u001b[0mbatch_outs\u001b[0m \u001b[0;34m=\u001b[0m \u001b[0mexecution_function\u001b[0m\u001b[0;34m(\u001b[0m\u001b[0miterator\u001b[0m\u001b[0;34m)\u001b[0m\u001b[0;34m\u001b[0m\u001b[0;34m\u001b[0m\u001b[0m\n\u001b[0m\u001b[1;32m    129\u001b[0m       \u001b[0;32mexcept\u001b[0m \u001b[0;34m(\u001b[0m\u001b[0mStopIteration\u001b[0m\u001b[0;34m,\u001b[0m \u001b[0merrors\u001b[0m\u001b[0;34m.\u001b[0m\u001b[0mOutOfRangeError\u001b[0m\u001b[0;34m)\u001b[0m\u001b[0;34m:\u001b[0m\u001b[0;34m\u001b[0m\u001b[0;34m\u001b[0m\u001b[0m\n\u001b[1;32m    130\u001b[0m         \u001b[0;31m# TODO(kaftan): File bug about tf function and errors.OutOfRangeError?\u001b[0m\u001b[0;34m\u001b[0m\u001b[0;34m\u001b[0m\u001b[0;34m\u001b[0m\u001b[0m\n",
      "\u001b[0;32m/usr/lib/python3.8/site-packages/tensorflow_core/python/keras/engine/training_v2_utils.py\u001b[0m in \u001b[0;36mexecution_function\u001b[0;34m(input_fn)\u001b[0m\n\u001b[1;32m     96\u001b[0m     \u001b[0;31m# `numpy` translates Tensors to values in Eager mode.\u001b[0m\u001b[0;34m\u001b[0m\u001b[0;34m\u001b[0m\u001b[0;34m\u001b[0m\u001b[0m\n\u001b[1;32m     97\u001b[0m     return nest.map_structure(_non_none_constant_value,\n\u001b[0;32m---> 98\u001b[0;31m                               distributed_function(input_fn))\n\u001b[0m\u001b[1;32m     99\u001b[0m \u001b[0;34m\u001b[0m\u001b[0m\n\u001b[1;32m    100\u001b[0m   \u001b[0;32mreturn\u001b[0m \u001b[0mexecution_function\u001b[0m\u001b[0;34m\u001b[0m\u001b[0;34m\u001b[0m\u001b[0m\n",
      "\u001b[0;32m/usr/lib/python3.8/site-packages/tensorflow_core/python/eager/def_function.py\u001b[0m in \u001b[0;36m__call__\u001b[0;34m(self, *args, **kwds)\u001b[0m\n\u001b[1;32m    566\u001b[0m         \u001b[0mxla_context\u001b[0m\u001b[0;34m.\u001b[0m\u001b[0mExit\u001b[0m\u001b[0;34m(\u001b[0m\u001b[0;34m)\u001b[0m\u001b[0;34m\u001b[0m\u001b[0;34m\u001b[0m\u001b[0m\n\u001b[1;32m    567\u001b[0m     \u001b[0;32melse\u001b[0m\u001b[0;34m:\u001b[0m\u001b[0;34m\u001b[0m\u001b[0;34m\u001b[0m\u001b[0m\n\u001b[0;32m--> 568\u001b[0;31m       \u001b[0mresult\u001b[0m \u001b[0;34m=\u001b[0m \u001b[0mself\u001b[0m\u001b[0;34m.\u001b[0m\u001b[0m_call\u001b[0m\u001b[0;34m(\u001b[0m\u001b[0;34m*\u001b[0m\u001b[0margs\u001b[0m\u001b[0;34m,\u001b[0m \u001b[0;34m**\u001b[0m\u001b[0mkwds\u001b[0m\u001b[0;34m)\u001b[0m\u001b[0;34m\u001b[0m\u001b[0;34m\u001b[0m\u001b[0m\n\u001b[0m\u001b[1;32m    569\u001b[0m \u001b[0;34m\u001b[0m\u001b[0m\n\u001b[1;32m    570\u001b[0m     \u001b[0;32mif\u001b[0m \u001b[0mtracing_count\u001b[0m \u001b[0;34m==\u001b[0m \u001b[0mself\u001b[0m\u001b[0;34m.\u001b[0m\u001b[0m_get_tracing_count\u001b[0m\u001b[0;34m(\u001b[0m\u001b[0;34m)\u001b[0m\u001b[0;34m:\u001b[0m\u001b[0;34m\u001b[0m\u001b[0;34m\u001b[0m\u001b[0m\n",
      "\u001b[0;32m/usr/lib/python3.8/site-packages/tensorflow_core/python/eager/def_function.py\u001b[0m in \u001b[0;36m_call\u001b[0;34m(self, *args, **kwds)\u001b[0m\n\u001b[1;32m    597\u001b[0m       \u001b[0;31m# In this case we have created variables on the first call, so we run the\u001b[0m\u001b[0;34m\u001b[0m\u001b[0;34m\u001b[0m\u001b[0;34m\u001b[0m\u001b[0m\n\u001b[1;32m    598\u001b[0m       \u001b[0;31m# defunned version which is guaranteed to never create variables.\u001b[0m\u001b[0;34m\u001b[0m\u001b[0;34m\u001b[0m\u001b[0;34m\u001b[0m\u001b[0m\n\u001b[0;32m--> 599\u001b[0;31m       \u001b[0;32mreturn\u001b[0m \u001b[0mself\u001b[0m\u001b[0;34m.\u001b[0m\u001b[0m_stateless_fn\u001b[0m\u001b[0;34m(\u001b[0m\u001b[0;34m*\u001b[0m\u001b[0margs\u001b[0m\u001b[0;34m,\u001b[0m \u001b[0;34m**\u001b[0m\u001b[0mkwds\u001b[0m\u001b[0;34m)\u001b[0m  \u001b[0;31m# pylint: disable=not-callable\u001b[0m\u001b[0;34m\u001b[0m\u001b[0;34m\u001b[0m\u001b[0m\n\u001b[0m\u001b[1;32m    600\u001b[0m     \u001b[0;32melif\u001b[0m \u001b[0mself\u001b[0m\u001b[0;34m.\u001b[0m\u001b[0m_stateful_fn\u001b[0m \u001b[0;32mis\u001b[0m \u001b[0;32mnot\u001b[0m \u001b[0;32mNone\u001b[0m\u001b[0;34m:\u001b[0m\u001b[0;34m\u001b[0m\u001b[0;34m\u001b[0m\u001b[0m\n\u001b[1;32m    601\u001b[0m       \u001b[0;31m# Release the lock early so that multiple threads can perform the call\u001b[0m\u001b[0;34m\u001b[0m\u001b[0;34m\u001b[0m\u001b[0;34m\u001b[0m\u001b[0m\n",
      "\u001b[0;32m/usr/lib/python3.8/site-packages/tensorflow_core/python/eager/function.py\u001b[0m in \u001b[0;36m__call__\u001b[0;34m(self, *args, **kwargs)\u001b[0m\n\u001b[1;32m   2361\u001b[0m     \u001b[0;32mwith\u001b[0m \u001b[0mself\u001b[0m\u001b[0;34m.\u001b[0m\u001b[0m_lock\u001b[0m\u001b[0;34m:\u001b[0m\u001b[0;34m\u001b[0m\u001b[0;34m\u001b[0m\u001b[0m\n\u001b[1;32m   2362\u001b[0m       \u001b[0mgraph_function\u001b[0m\u001b[0;34m,\u001b[0m \u001b[0margs\u001b[0m\u001b[0;34m,\u001b[0m \u001b[0mkwargs\u001b[0m \u001b[0;34m=\u001b[0m \u001b[0mself\u001b[0m\u001b[0;34m.\u001b[0m\u001b[0m_maybe_define_function\u001b[0m\u001b[0;34m(\u001b[0m\u001b[0margs\u001b[0m\u001b[0;34m,\u001b[0m \u001b[0mkwargs\u001b[0m\u001b[0;34m)\u001b[0m\u001b[0;34m\u001b[0m\u001b[0;34m\u001b[0m\u001b[0m\n\u001b[0;32m-> 2363\u001b[0;31m     \u001b[0;32mreturn\u001b[0m \u001b[0mgraph_function\u001b[0m\u001b[0;34m.\u001b[0m\u001b[0m_filtered_call\u001b[0m\u001b[0;34m(\u001b[0m\u001b[0margs\u001b[0m\u001b[0;34m,\u001b[0m \u001b[0mkwargs\u001b[0m\u001b[0;34m)\u001b[0m  \u001b[0;31m# pylint: disable=protected-access\u001b[0m\u001b[0;34m\u001b[0m\u001b[0;34m\u001b[0m\u001b[0m\n\u001b[0m\u001b[1;32m   2364\u001b[0m \u001b[0;34m\u001b[0m\u001b[0m\n\u001b[1;32m   2365\u001b[0m   \u001b[0;34m@\u001b[0m\u001b[0mproperty\u001b[0m\u001b[0;34m\u001b[0m\u001b[0;34m\u001b[0m\u001b[0m\n",
      "\u001b[0;32m/usr/lib/python3.8/site-packages/tensorflow_core/python/eager/function.py\u001b[0m in \u001b[0;36m_filtered_call\u001b[0;34m(self, args, kwargs)\u001b[0m\n\u001b[1;32m   1605\u001b[0m       \u001b[0;31m`\u001b[0m\u001b[0margs\u001b[0m\u001b[0;31m`\u001b[0m \u001b[0;32mand\u001b[0m\u001b[0;31m \u001b[0m\u001b[0;31m`\u001b[0m\u001b[0mkwargs\u001b[0m\u001b[0;31m`\u001b[0m\u001b[0;34m.\u001b[0m\u001b[0;34m\u001b[0m\u001b[0;34m\u001b[0m\u001b[0m\n\u001b[1;32m   1606\u001b[0m     \"\"\"\n\u001b[0;32m-> 1607\u001b[0;31m     return self._call_flat(\n\u001b[0m\u001b[1;32m   1608\u001b[0m         (t for t in nest.flatten((args, kwargs), expand_composites=True)\n\u001b[1;32m   1609\u001b[0m          if isinstance(t, (ops.Tensor,\n",
      "\u001b[0;32m/usr/lib/python3.8/site-packages/tensorflow_core/python/eager/function.py\u001b[0m in \u001b[0;36m_call_flat\u001b[0;34m(self, args, captured_inputs, cancellation_manager)\u001b[0m\n\u001b[1;32m   1689\u001b[0m         and executing_eagerly):\n\u001b[1;32m   1690\u001b[0m       \u001b[0;31m# No tape is watching; skip to running the function.\u001b[0m\u001b[0;34m\u001b[0m\u001b[0;34m\u001b[0m\u001b[0;34m\u001b[0m\u001b[0m\n\u001b[0;32m-> 1691\u001b[0;31m       return self._build_call_outputs(self._inference_function.call(\n\u001b[0m\u001b[1;32m   1692\u001b[0m           ctx, args, cancellation_manager=cancellation_manager))\n\u001b[1;32m   1693\u001b[0m     forward_backward = self._select_forward_and_backward_functions(\n",
      "\u001b[0;32m/usr/lib/python3.8/site-packages/tensorflow_core/python/eager/function.py\u001b[0m in \u001b[0;36mcall\u001b[0;34m(self, ctx, args, cancellation_manager)\u001b[0m\n\u001b[1;32m    538\u001b[0m       \u001b[0;32mwith\u001b[0m \u001b[0m_InterpolateFunctionError\u001b[0m\u001b[0;34m(\u001b[0m\u001b[0mself\u001b[0m\u001b[0;34m)\u001b[0m\u001b[0;34m:\u001b[0m\u001b[0;34m\u001b[0m\u001b[0;34m\u001b[0m\u001b[0m\n\u001b[1;32m    539\u001b[0m         \u001b[0;32mif\u001b[0m \u001b[0mcancellation_manager\u001b[0m \u001b[0;32mis\u001b[0m \u001b[0;32mNone\u001b[0m\u001b[0;34m:\u001b[0m\u001b[0;34m\u001b[0m\u001b[0;34m\u001b[0m\u001b[0m\n\u001b[0;32m--> 540\u001b[0;31m           outputs = execute.execute(\n\u001b[0m\u001b[1;32m    541\u001b[0m               \u001b[0mstr\u001b[0m\u001b[0;34m(\u001b[0m\u001b[0mself\u001b[0m\u001b[0;34m.\u001b[0m\u001b[0msignature\u001b[0m\u001b[0;34m.\u001b[0m\u001b[0mname\u001b[0m\u001b[0;34m)\u001b[0m\u001b[0;34m,\u001b[0m\u001b[0;34m\u001b[0m\u001b[0;34m\u001b[0m\u001b[0m\n\u001b[1;32m    542\u001b[0m               \u001b[0mnum_outputs\u001b[0m\u001b[0;34m=\u001b[0m\u001b[0mself\u001b[0m\u001b[0;34m.\u001b[0m\u001b[0m_num_outputs\u001b[0m\u001b[0;34m,\u001b[0m\u001b[0;34m\u001b[0m\u001b[0;34m\u001b[0m\u001b[0m\n",
      "\u001b[0;32m/usr/lib/python3.8/site-packages/tensorflow_core/python/eager/execute.py\u001b[0m in \u001b[0;36mquick_execute\u001b[0;34m(op_name, num_outputs, inputs, attrs, ctx, name)\u001b[0m\n\u001b[1;32m     57\u001b[0m   \u001b[0;32mtry\u001b[0m\u001b[0;34m:\u001b[0m\u001b[0;34m\u001b[0m\u001b[0;34m\u001b[0m\u001b[0m\n\u001b[1;32m     58\u001b[0m     \u001b[0mctx\u001b[0m\u001b[0;34m.\u001b[0m\u001b[0mensure_initialized\u001b[0m\u001b[0;34m(\u001b[0m\u001b[0;34m)\u001b[0m\u001b[0;34m\u001b[0m\u001b[0;34m\u001b[0m\u001b[0m\n\u001b[0;32m---> 59\u001b[0;31m     tensors = pywrap_tensorflow.TFE_Py_Execute(ctx._handle, device_name,\n\u001b[0m\u001b[1;32m     60\u001b[0m                                                \u001b[0mop_name\u001b[0m\u001b[0;34m,\u001b[0m \u001b[0minputs\u001b[0m\u001b[0;34m,\u001b[0m \u001b[0mattrs\u001b[0m\u001b[0;34m,\u001b[0m\u001b[0;34m\u001b[0m\u001b[0;34m\u001b[0m\u001b[0m\n\u001b[1;32m     61\u001b[0m                                                num_outputs)\n",
      "\u001b[0;31mKeyboardInterrupt\u001b[0m: "
     ]
    }
   ],
   "source": [
    "model.fit(XDB,YDB,batch_size=32,epochs=10,validation_data=(XTB,YTB))"
   ]
  },
  {
   "cell_type": "code",
   "execution_count": 29,
   "metadata": {
    "scrolled": false
   },
   "outputs": [
    {
     "data": {
      "text/plain": [
       "0.84625"
      ]
     },
     "execution_count": 29,
     "metadata": {},
     "output_type": "execute_result"
    }
   ],
   "source": [
    "(model.predict(XTB).argmax(axis=1)==YTB.argmax(axis=1)).sum()/len(XTB)"
   ]
  },
  {
   "cell_type": "code",
   "execution_count": 30,
   "metadata": {},
   "outputs": [
    {
     "data": {
      "text/plain": [
       "array([0, 4, 0, 4, 0, 4, 0, 0, 4, 4, 4, 4, 0, 0, 0, 0, 0, 0, 0, 4, 4, 0,\n",
       "       0, 0, 4, 4, 0, 0, 0, 4, 4, 0, 0, 0, 4, 4, 0, 4, 0, 4, 4, 0, 0, 0,\n",
       "       0, 4, 4, 4, 4, 4, 0, 0, 4, 4, 1, 4, 4, 0, 0, 0, 0, 0, 4, 4, 4, 0,\n",
       "       0, 4, 0, 0, 0, 0, 4, 0, 4, 0, 4, 4, 0, 4, 4, 0, 4, 4, 0, 0, 0, 4,\n",
       "       4, 4, 4, 0, 4, 0, 0, 0, 4, 4, 0, 0, 4, 0, 4, 4, 4, 0, 4, 0, 4, 0,\n",
       "       4, 4, 0, 0, 0, 4, 4, 0, 4, 0, 0, 0, 0, 4, 0, 4, 0, 0, 0, 0, 4, 0,\n",
       "       0, 4, 0, 4, 4, 4, 4, 0, 0, 0, 0, 4, 0, 0, 0, 0, 0, 4, 0, 0, 4, 4,\n",
       "       4, 4, 4, 0, 4, 0, 4, 4, 0, 4, 4, 4, 0, 4, 4, 0, 4, 4, 4, 0, 0, 4,\n",
       "       0, 4, 0, 4, 4, 0, 4, 0, 4, 4, 4, 4, 0, 4, 4, 4, 0, 0, 4, 0, 4, 0,\n",
       "       0, 0, 4, 0, 0, 0, 4, 0, 0, 0, 0, 4, 0, 4, 0, 4, 4, 0, 0, 0, 0, 4,\n",
       "       4, 4, 4, 4, 0, 0, 4, 0, 4, 0, 0, 4, 0, 0, 4, 0, 0, 0, 4, 0, 0, 0,\n",
       "       0, 0, 4, 4, 0, 0, 0, 4, 0, 0, 0, 4, 4, 0, 0, 0, 4, 4, 4, 4, 0, 0,\n",
       "       4, 0, 0, 0, 4, 0, 0, 4, 0, 0, 4, 4, 0, 4, 4, 1, 0, 0, 0, 0, 4, 4,\n",
       "       4, 0, 4, 4, 1, 0, 4, 0, 4, 0, 4, 4, 0, 4, 0, 0, 0, 4, 0, 0, 1, 4,\n",
       "       0, 4, 0, 0, 0, 4, 4, 0, 4, 0, 0, 0, 0, 0, 0, 0, 0, 0, 0, 0, 0, 0,\n",
       "       0, 0, 0, 4, 0, 0, 4, 0, 4, 0, 4, 0, 0, 0, 0, 0, 4, 4, 0, 0, 0, 4,\n",
       "       4, 0, 4, 0, 4, 4, 0, 4, 0, 0, 0, 4, 4, 4, 4, 0, 0, 0, 4, 4, 0, 4,\n",
       "       0, 0, 0, 4, 0, 4, 0, 4, 0, 4, 0, 4, 4, 0, 0, 4, 0, 0, 0, 4, 4, 0,\n",
       "       0, 0, 4, 4, 0, 0, 0, 0, 4, 0, 4, 0, 4, 4, 4, 4, 4, 0, 4, 0, 0, 4,\n",
       "       0, 4, 0, 4, 0, 1, 0, 4, 0, 4, 4, 0, 0, 4, 4, 4, 4, 4, 0, 4, 0, 0,\n",
       "       0, 4, 0, 4, 0, 4, 4, 0, 0, 0, 0, 4, 0, 0, 0, 0, 0, 4, 4, 4, 0, 0,\n",
       "       0, 4, 0, 0, 4, 4, 0, 4, 4, 4, 0, 4, 0, 0, 0, 0, 4, 4, 4, 0, 4, 4,\n",
       "       0, 4, 4, 4, 0, 0, 0, 0, 0, 4, 0, 0, 0, 4, 0, 0, 0, 4, 0, 4, 4, 4,\n",
       "       0, 4, 4, 4, 4, 0, 0, 0, 0, 0, 0, 4, 4, 0, 4, 0, 0, 0, 4, 0, 4, 4,\n",
       "       4, 0, 0, 4, 0, 4, 4, 0, 4, 0, 4, 0, 0, 4, 0, 0, 0, 4, 4, 0, 0, 4,\n",
       "       4, 4, 0, 0, 0, 0, 0, 0, 4, 0, 0, 4, 0, 0, 0, 0, 0, 4, 4, 4, 0, 4,\n",
       "       4, 4, 0, 4, 0, 0, 0, 0, 0, 0, 4, 4, 0, 0, 0, 4, 0, 0, 4, 0, 4, 0,\n",
       "       4, 0, 0, 0, 4, 4, 0, 0, 0, 4, 0, 0, 0, 4, 4, 0, 0, 0, 0, 4, 0, 4,\n",
       "       4, 0, 4, 4, 4, 0, 0, 4, 0, 4, 0, 4, 0, 4, 0, 0, 0, 0, 4, 4, 0, 0,\n",
       "       0, 4, 0, 0, 0, 4, 0, 4, 4, 4, 4, 4, 0, 4, 0, 4, 4, 4, 4, 0, 4, 4,\n",
       "       0, 4, 0, 0, 0, 4, 0, 0, 4, 0, 0, 0, 1, 4, 4, 4, 0, 0, 0, 0, 4, 4,\n",
       "       4, 0, 0, 4, 4, 0, 4, 0, 0, 4, 0, 0, 0, 0, 4, 0, 0, 4, 0, 0, 4, 4,\n",
       "       4, 0, 0, 0, 0, 4, 0, 0, 4, 0, 0, 4, 4, 0, 0, 4, 0, 4, 4, 4, 0, 4,\n",
       "       0, 4, 0, 4, 0, 4, 4, 0, 0, 4, 0, 0, 4, 4, 0, 0, 4, 0, 0, 0, 4, 4,\n",
       "       4, 4, 4, 0, 4, 4, 4, 0, 0, 0, 0, 4, 4, 0, 4, 4, 4, 0, 4, 4, 4, 0,\n",
       "       4, 0, 4, 0, 4, 4, 4, 0, 0, 0, 0, 0, 0, 0, 0, 4, 1, 0, 0, 4, 0, 0,\n",
       "       0, 0, 4, 0, 0, 0, 0, 0])"
      ]
     },
     "execution_count": 30,
     "metadata": {},
     "output_type": "execute_result"
    }
   ],
   "source": [
    "model.predict(XTB).argmax(axis=1)"
   ]
  },
  {
   "cell_type": "code",
   "execution_count": 31,
   "metadata": {},
   "outputs": [
    {
     "data": {
      "text/plain": [
       "array([0, 4, 0, 4, 0, 4, 4, 0, 4, 4, 4, 4, 0, 0, 0, 0, 0, 0, 4, 4, 0, 0,\n",
       "       0, 0, 0, 0, 0, 0, 0, 4, 4, 0, 0, 4, 4, 4, 0, 4, 0, 4, 4, 0, 0, 0,\n",
       "       0, 4, 5, 4, 4, 0, 0, 0, 4, 4, 1, 4, 4, 4, 0, 0, 0, 0, 4, 4, 4, 4,\n",
       "       0, 4, 4, 4, 5, 0, 4, 0, 4, 0, 0, 4, 0, 4, 4, 0, 4, 4, 0, 4, 0, 0,\n",
       "       4, 4, 4, 0, 4, 0, 4, 0, 4, 4, 0, 0, 4, 4, 4, 4, 4, 2, 4, 0, 4, 0,\n",
       "       4, 4, 0, 0, 4, 0, 0, 4, 4, 0, 0, 2, 0, 4, 0, 4, 0, 4, 0, 0, 0, 0,\n",
       "       0, 4, 0, 4, 4, 4, 4, 0, 0, 0, 0, 4, 0, 0, 0, 0, 0, 4, 0, 0, 4, 0,\n",
       "       4, 4, 4, 0, 4, 0, 4, 4, 1, 2, 4, 4, 0, 4, 4, 0, 4, 4, 5, 0, 4, 4,\n",
       "       0, 4, 0, 4, 4, 0, 4, 0, 4, 4, 4, 4, 0, 4, 4, 4, 0, 0, 4, 0, 4, 0,\n",
       "       0, 0, 4, 0, 0, 0, 4, 0, 0, 0, 4, 4, 0, 4, 0, 4, 4, 0, 0, 4, 5, 4,\n",
       "       4, 4, 4, 4, 0, 0, 4, 4, 5, 0, 0, 4, 0, 0, 0, 0, 0, 0, 0, 0, 0, 0,\n",
       "       4, 1, 0, 4, 0, 0, 0, 4, 4, 3, 0, 4, 4, 0, 0, 0, 4, 0, 4, 4, 0, 0,\n",
       "       0, 0, 0, 3, 4, 0, 4, 4, 0, 0, 0, 4, 0, 4, 4, 1, 0, 4, 0, 0, 4, 4,\n",
       "       4, 0, 4, 4, 1, 0, 4, 0, 4, 0, 0, 4, 0, 4, 0, 0, 0, 4, 0, 0, 1, 4,\n",
       "       0, 4, 5, 5, 0, 4, 4, 0, 4, 4, 2, 0, 0, 0, 0, 0, 0, 4, 0, 0, 0, 0,\n",
       "       3, 0, 0, 4, 0, 0, 4, 0, 4, 0, 4, 5, 0, 0, 4, 0, 1, 4, 0, 0, 0, 4,\n",
       "       4, 0, 4, 0, 2, 0, 0, 4, 0, 0, 0, 4, 4, 4, 4, 5, 0, 0, 0, 4, 0, 5,\n",
       "       0, 0, 0, 4, 0, 4, 1, 4, 0, 4, 0, 4, 4, 0, 0, 4, 0, 0, 0, 4, 4, 0,\n",
       "       0, 0, 4, 0, 0, 0, 0, 0, 4, 0, 4, 0, 2, 4, 4, 4, 4, 0, 4, 0, 4, 4,\n",
       "       0, 4, 0, 4, 0, 1, 5, 4, 0, 4, 4, 0, 0, 4, 4, 4, 4, 4, 4, 4, 0, 0,\n",
       "       0, 4, 0, 4, 0, 4, 4, 0, 0, 0, 0, 4, 0, 4, 0, 3, 0, 4, 4, 4, 4, 0,\n",
       "       0, 4, 0, 0, 4, 4, 0, 4, 4, 4, 0, 4, 0, 0, 0, 0, 4, 4, 4, 0, 4, 4,\n",
       "       0, 4, 4, 4, 0, 1, 0, 0, 0, 4, 0, 0, 0, 4, 4, 0, 0, 4, 0, 4, 4, 4,\n",
       "       0, 4, 4, 4, 4, 0, 0, 0, 0, 0, 0, 4, 4, 0, 4, 0, 5, 4, 4, 0, 4, 4,\n",
       "       4, 0, 4, 4, 1, 4, 2, 0, 0, 0, 4, 0, 4, 4, 0, 0, 4, 4, 4, 0, 0, 4,\n",
       "       0, 4, 0, 0, 0, 0, 0, 0, 4, 0, 0, 4, 0, 0, 0, 0, 0, 4, 4, 4, 0, 4,\n",
       "       4, 4, 0, 4, 0, 0, 4, 4, 0, 0, 4, 4, 0, 0, 0, 4, 0, 4, 0, 0, 0, 0,\n",
       "       4, 2, 0, 0, 4, 4, 4, 0, 0, 4, 0, 5, 0, 4, 0, 0, 0, 0, 1, 4, 0, 4,\n",
       "       4, 0, 4, 4, 4, 0, 5, 4, 0, 4, 0, 4, 0, 4, 0, 0, 0, 0, 4, 4, 4, 0,\n",
       "       0, 4, 0, 0, 4, 4, 0, 4, 4, 4, 4, 4, 0, 4, 4, 4, 4, 2, 4, 0, 4, 4,\n",
       "       0, 4, 0, 0, 0, 4, 0, 0, 4, 0, 0, 4, 0, 4, 0, 4, 0, 0, 0, 0, 0, 4,\n",
       "       4, 4, 0, 4, 4, 0, 4, 0, 5, 4, 0, 0, 0, 0, 4, 0, 0, 4, 0, 0, 4, 4,\n",
       "       4, 1, 0, 0, 0, 4, 0, 0, 4, 0, 3, 4, 4, 0, 4, 4, 0, 4, 4, 5, 0, 4,\n",
       "       0, 4, 4, 4, 0, 4, 4, 4, 2, 4, 0, 0, 4, 4, 0, 0, 3, 0, 0, 0, 4, 4,\n",
       "       4, 4, 4, 0, 4, 4, 4, 0, 4, 0, 0, 4, 0, 0, 4, 4, 4, 0, 4, 4, 4, 5,\n",
       "       4, 1, 4, 0, 4, 4, 4, 0, 0, 0, 4, 0, 0, 0, 0, 4, 0, 4, 0, 4, 0, 0,\n",
       "       2, 0, 4, 4, 0, 0, 0, 4])"
      ]
     },
     "execution_count": 31,
     "metadata": {},
     "output_type": "execute_result"
    }
   ],
   "source": [
    "YTB.argmax(axis=1)"
   ]
  },
  {
   "cell_type": "code",
   "execution_count": null,
   "metadata": {},
   "outputs": [],
   "source": []
  },
  {
   "cell_type": "code",
   "execution_count": null,
   "metadata": {},
   "outputs": [],
   "source": []
  }
 ],
 "metadata": {
  "kernelspec": {
   "display_name": "Python 3",
   "language": "python",
   "name": "python3"
  },
  "language_info": {
   "codemirror_mode": {
    "name": "ipython",
    "version": 3
   },
   "file_extension": ".py",
   "mimetype": "text/x-python",
   "name": "python",
   "nbconvert_exporter": "python",
   "pygments_lexer": "ipython3",
   "version": "3.8.0"
  }
 },
 "nbformat": 4,
 "nbformat_minor": 2
}
